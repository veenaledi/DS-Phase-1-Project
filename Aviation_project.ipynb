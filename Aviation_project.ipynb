{
 "cells": [
  {
   "cell_type": "markdown",
   "id": "e8de9643",
   "metadata": {},
   "source": [
    "__<font size=\"5\">PHASE 1 PROJECT</font>__ "
   ]
  },
  {
   "cell_type": "markdown",
   "id": "ab85b950",
   "metadata": {},
   "source": [
    "__<font size=\"5\">Aviation Risk Assessment Analysis</font>__ "
   ]
  },
  {
   "cell_type": "markdown",
   "id": "10792977",
   "metadata": {},
   "source": [
    "__<span style=\"font-size: 18px;\">Overview</span>__"
   ]
  },
  {
   "cell_type": "markdown",
   "id": "66daea2d",
   "metadata": {},
   "source": [
    "The company had planned to diversify its portfolio by entering the aviation industry, aiming to acquire and operate aircraft for both commercial and private use.\n",
    "Initially lacking knowledge about potential aircraft risks, a comprehensive risk assessment had been conducted to determine which aircraft had posed the lowest operational risks for the new business venture."
   ]
  },
  {
   "cell_type": "markdown",
   "id": "e90d1b9a",
   "metadata": {},
   "source": [
    "***<span style=\"font-size: 18px;\">1. Importing Libraries</span>***"
   ]
  },
  {
   "cell_type": "code",
   "execution_count": 281,
   "id": "9bbb8e8b",
   "metadata": {},
   "outputs": [],
   "source": [
    "import pandas as pd\n",
    "import numpy as np\n",
    "import matplotlib.pyplot as plt\n",
    "import zipfile"
   ]
  },
  {
   "cell_type": "markdown",
   "id": "6de402ca",
   "metadata": {},
   "source": [
    "***<span style=\"font-size: 18px;\">2. Loading the Data</span>***\n"
   ]
  },
  {
   "cell_type": "markdown",
   "id": "441a9c23",
   "metadata": {},
   "source": [
    "- Get the zip path. Extract the contents."
   ]
  },
  {
   "cell_type": "code",
   "execution_count": 282,
   "id": "2f2d45ea",
   "metadata": {},
   "outputs": [],
   "source": [
    "zip_path = \"AviationData.csv.zip\"\n",
    "\n",
    "# Extract contents\n",
    "with zipfile.ZipFile(zip_path, 'r') as zip_ref:\n",
    "    zip_ref.extractall(\"unzipped_folder\")"
   ]
  },
  {
   "cell_type": "markdown",
   "id": "a0f2eeff",
   "metadata": {},
   "source": [
    "- Load the extracted dataset "
   ]
  },
  {
   "cell_type": "code",
   "execution_count": 283,
   "id": "ffaf8569",
   "metadata": {},
   "outputs": [],
   "source": [
    "aviation_data = pd.read_csv(\"unzipped_folder/AviationData.csv\", encoding='ISO-8859-1', low_memory=False)"
   ]
  },
  {
   "cell_type": "markdown",
   "id": "5fb883d2",
   "metadata": {},
   "source": [
    "- Viewing the first 10 rows"
   ]
  },
  {
   "cell_type": "code",
   "execution_count": 284,
   "id": "4d818f2e",
   "metadata": {},
   "outputs": [
    {
     "data": {
      "text/html": [
       "<div>\n",
       "<style scoped>\n",
       "    .dataframe tbody tr th:only-of-type {\n",
       "        vertical-align: middle;\n",
       "    }\n",
       "\n",
       "    .dataframe tbody tr th {\n",
       "        vertical-align: top;\n",
       "    }\n",
       "\n",
       "    .dataframe thead th {\n",
       "        text-align: right;\n",
       "    }\n",
       "</style>\n",
       "<table border=\"1\" class=\"dataframe\">\n",
       "  <thead>\n",
       "    <tr style=\"text-align: right;\">\n",
       "      <th></th>\n",
       "      <th>Event.Id</th>\n",
       "      <th>Investigation.Type</th>\n",
       "      <th>Accident.Number</th>\n",
       "      <th>Event.Date</th>\n",
       "      <th>Location</th>\n",
       "      <th>Country</th>\n",
       "      <th>Latitude</th>\n",
       "      <th>Longitude</th>\n",
       "      <th>Airport.Code</th>\n",
       "      <th>Airport.Name</th>\n",
       "      <th>...</th>\n",
       "      <th>Purpose.of.flight</th>\n",
       "      <th>Air.carrier</th>\n",
       "      <th>Total.Fatal.Injuries</th>\n",
       "      <th>Total.Serious.Injuries</th>\n",
       "      <th>Total.Minor.Injuries</th>\n",
       "      <th>Total.Uninjured</th>\n",
       "      <th>Weather.Condition</th>\n",
       "      <th>Broad.phase.of.flight</th>\n",
       "      <th>Report.Status</th>\n",
       "      <th>Publication.Date</th>\n",
       "    </tr>\n",
       "  </thead>\n",
       "  <tbody>\n",
       "  </tbody>\n",
       "</table>\n",
       "<p>0 rows × 31 columns</p>\n",
       "</div>"
      ],
      "text/plain": [
       "Empty DataFrame\n",
       "Columns: [Event.Id, Investigation.Type, Accident.Number, Event.Date, Location, Country, Latitude, Longitude, Airport.Code, Airport.Name, Injury.Severity, Aircraft.damage, Aircraft.Category, Registration.Number, Make, Model, Amateur.Built, Number.of.Engines, Engine.Type, FAR.Description, Schedule, Purpose.of.flight, Air.carrier, Total.Fatal.Injuries, Total.Serious.Injuries, Total.Minor.Injuries, Total.Uninjured, Weather.Condition, Broad.phase.of.flight, Report.Status, Publication.Date]\n",
       "Index: []\n",
       "\n",
       "[0 rows x 31 columns]"
      ]
     },
     "execution_count": 284,
     "metadata": {},
     "output_type": "execute_result"
    }
   ],
   "source": [
    "aviation_data.head(0)"
   ]
  },
  {
   "cell_type": "markdown",
   "id": "74e0a1c6",
   "metadata": {},
   "source": [
    "***<span style=\"font-size: 18px;\">3. Cleaning Data Types </span>***\n"
   ]
  },
  {
   "cell_type": "markdown",
   "id": "c71e6ce4",
   "metadata": {},
   "source": [
    "- Ensuring data types are in correct form\n"
   ]
  },
  {
   "cell_type": "code",
   "execution_count": 285,
   "id": "0939e064",
   "metadata": {},
   "outputs": [],
   "source": [
    "def fix_types(aviation_data):\n",
    "    for col in aviation_data.columns:\n",
    "        # Fix dates\n",
    "        if 'date' in col.lower():\n",
    "            aviation_data[col] = pd.to_datetime(aviation_data[col], errors='ignore')\n",
    "        \n",
    "        # Fix numbers\n",
    "        elif any(word in col.lower() for word in ['total', 'number', 'id', 'injuries', 'engines']):\n",
    "            aviation_data[col] = pd.to_numeric(aviation_data[col], errors='ignore')\n",
    "    \n",
    "    return aviation_data"
   ]
  },
  {
   "cell_type": "markdown",
   "id": "911bb559",
   "metadata": {},
   "source": [
    "***<span style=\"font-size: 18px;\">4. Missing values </span>***\n"
   ]
  },
  {
   "cell_type": "markdown",
   "id": "39fae90f",
   "metadata": {},
   "source": [
    "- checking number of rows and columns before handling them"
   ]
  },
  {
   "cell_type": "code",
   "execution_count": 287,
   "id": "922c07ec",
   "metadata": {},
   "outputs": [
    {
     "data": {
      "text/plain": [
       "(88889, 31)"
      ]
     },
     "execution_count": 287,
     "metadata": {},
     "output_type": "execute_result"
    }
   ],
   "source": [
    "aviation_data.shape"
   ]
  },
  {
   "cell_type": "markdown",
   "id": "c8e7b9f5",
   "metadata": {},
   "source": [
    "- Using .isnull().sum() to check numer of missing values"
   ]
  },
  {
   "cell_type": "code",
   "execution_count": 288,
   "id": "94022df2",
   "metadata": {},
   "outputs": [],
   "source": [
    "missing_values = aviation_data.isnull().sum()"
   ]
  },
  {
   "cell_type": "markdown",
   "id": "c2c87b43",
   "metadata": {},
   "source": [
    "- Checking missing values by columns using a horizontal bar chart"
   ]
  },
  {
   "cell_type": "code",
   "execution_count": 289,
   "id": "ca086aab",
   "metadata": {},
   "outputs": [
    {
     "data": {
      "image/png": "[encoded data removed]",
      "text/plain": [
       "<Figure size 640x480 with 1 Axes>"
      ]
     },
     "metadata": {},
     "output_type": "display_data"
    }
   ],
   "source": [
    "if missing_values.sum() > 0:\n",
    "    missing_values[missing_values > 0].plot(kind='barh', color='skyblue')\n",
    "    plt.title('Missing Values')\n",
    "    plt.show()\n",
    "else:\n",
    "    print(\"No missing values!\")"
   ]
  },
  {
   "cell_type": "markdown",
   "id": "62764d12",
   "metadata": {},
   "source": [
    "- Handling the missing values\n",
    "- Data previously has 88889 rows 31 columns "
   ]
  },
  {
   "cell_type": "code",
   "execution_count": 290,
   "id": "1fc9b6c3",
   "metadata": {},
   "outputs": [
    {
     "name": "stdout",
     "output_type": "stream",
     "text": [
      "Missing values handled successfully!\n"
     ]
    }
   ],
   "source": [
    "if aviation_data.isnull().values.any():\n",
    "    # Drops columns with more than 50% missing values\n",
    "    aviation_data = aviation_data.dropna(axis=1, thresh=len(aviation_data) * 0.5)\n",
    "\n",
    "    # Fills text columns with 'Unknown' instead\n",
    "    for col in aviation_data.select_dtypes('object'):\n",
    "        aviation_data[col].fillna('Unknown', inplace=True)\n",
    "\n",
    "    # Drops rows missing 'Event.Date'\n",
    "    aviation_data = aviation_data.dropna(subset=['Event.Date'])\n",
    "\n",
    "    print(\"Missing values handled successfully!\")\n",
    "else:\n",
    "    print(\"No missing values found!\")\n"
   ]
  },
  {
   "cell_type": "markdown",
   "id": "67c68622",
   "metadata": {},
   "source": [
    "- Checking no of rows and columns after they've been handled\n"
   ]
  },
  {
   "cell_type": "code",
   "execution_count": 291,
   "id": "770d4eda",
   "metadata": {},
   "outputs": [
    {
     "data": {
      "text/plain": [
       "(88889, 25)"
      ]
     },
     "execution_count": 291,
     "metadata": {},
     "output_type": "execute_result"
    }
   ],
   "source": [
    "aviation_data.shape"
   ]
  },
  {
   "cell_type": "markdown",
   "id": "57ea03cc",
   "metadata": {},
   "source": [
    "- Checking the column names"
   ]
  },
  {
   "cell_type": "code",
   "execution_count": 292,
   "id": "c37c1fd3",
   "metadata": {},
   "outputs": [
    {
     "data": {
      "text/plain": [
       "Index(['Event.Id', 'Investigation.Type', 'Accident.Number', 'Event.Date',\n",
       "       'Location', 'Country', 'Airport.Code', 'Airport.Name',\n",
       "       'Injury.Severity', 'Aircraft.damage', 'Registration.Number', 'Make',\n",
       "       'Model', 'Amateur.Built', 'Number.of.Engines', 'Engine.Type',\n",
       "       'Purpose.of.flight', 'Total.Fatal.Injuries', 'Total.Serious.Injuries',\n",
       "       'Total.Minor.Injuries', 'Total.Uninjured', 'Weather.Condition',\n",
       "       'Broad.phase.of.flight', 'Report.Status', 'Publication.Date'],\n",
       "      dtype='object')"
      ]
     },
     "execution_count": 292,
     "metadata": {},
     "output_type": "execute_result"
    }
   ],
   "source": [
    "aviation_data.columns"
   ]
  },
  {
   "cell_type": "markdown",
   "id": "c5273875",
   "metadata": {},
   "source": [
    "***<span style=\"font-size: 18px;\">5. Duplicates </span>***\n"
   ]
  },
  {
   "cell_type": "markdown",
   "id": "f41bbbef",
   "metadata": {},
   "source": [
    "- Checking for duplicates"
   ]
  },
  {
   "cell_type": "code",
   "execution_count": 293,
   "id": "4b7c33ff",
   "metadata": {},
   "outputs": [
    {
     "data": {
      "text/plain": [
       "0"
      ]
     },
     "execution_count": 293,
     "metadata": {},
     "output_type": "execute_result"
    }
   ],
   "source": [
    "aviation_data.duplicated().sum()"
   ]
  },
  {
   "cell_type": "markdown",
   "id": "eea5e925",
   "metadata": {},
   "source": [
    "- Handling duplicates"
   ]
  },
  {
   "cell_type": "code",
   "execution_count": 294,
   "id": "fb359155",
   "metadata": {},
   "outputs": [
    {
     "data": {
      "text/html": [
       "<div>\n",
       "<style scoped>\n",
       "    .dataframe tbody tr th:only-of-type {\n",
       "        vertical-align: middle;\n",
       "    }\n",
       "\n",
       "    .dataframe tbody tr th {\n",
       "        vertical-align: top;\n",
       "    }\n",
       "\n",
       "    .dataframe thead th {\n",
       "        text-align: right;\n",
       "    }\n",
       "</style>\n",
       "<table border=\"1\" class=\"dataframe\">\n",
       "  <thead>\n",
       "    <tr style=\"text-align: right;\">\n",
       "      <th></th>\n",
       "      <th>Event.Id</th>\n",
       "      <th>Investigation.Type</th>\n",
       "      <th>Accident.Number</th>\n",
       "      <th>Event.Date</th>\n",
       "      <th>Location</th>\n",
       "      <th>Country</th>\n",
       "      <th>Airport.Code</th>\n",
       "      <th>Airport.Name</th>\n",
       "      <th>Injury.Severity</th>\n",
       "      <th>Aircraft.damage</th>\n",
       "      <th>...</th>\n",
       "      <th>Engine.Type</th>\n",
       "      <th>Purpose.of.flight</th>\n",
       "      <th>Total.Fatal.Injuries</th>\n",
       "      <th>Total.Serious.Injuries</th>\n",
       "      <th>Total.Minor.Injuries</th>\n",
       "      <th>Total.Uninjured</th>\n",
       "      <th>Weather.Condition</th>\n",
       "      <th>Broad.phase.of.flight</th>\n",
       "      <th>Report.Status</th>\n",
       "      <th>Publication.Date</th>\n",
       "    </tr>\n",
       "  </thead>\n",
       "  <tbody>\n",
       "    <tr>\n",
       "      <th>0</th>\n",
       "      <td>20001218X45444</td>\n",
       "      <td>Accident</td>\n",
       "      <td>SEA87LA080</td>\n",
       "      <td>1948-10-24</td>\n",
       "      <td>MOOSE CREEK, ID</td>\n",
       "      <td>United States</td>\n",
       "      <td>Unknown</td>\n",
       "      <td>Unknown</td>\n",
       "      <td>Fatal(2)</td>\n",
       "      <td>Destroyed</td>\n",
       "      <td>...</td>\n",
       "      <td>Reciprocating</td>\n",
       "      <td>Personal</td>\n",
       "      <td>2.0</td>\n",
       "      <td>0.0</td>\n",
       "      <td>0.0</td>\n",
       "      <td>0.0</td>\n",
       "      <td>UNK</td>\n",
       "      <td>Cruise</td>\n",
       "      <td>Probable Cause</td>\n",
       "      <td>Unknown</td>\n",
       "    </tr>\n",
       "    <tr>\n",
       "      <th>1</th>\n",
       "      <td>20001218X45447</td>\n",
       "      <td>Accident</td>\n",
       "      <td>LAX94LA336</td>\n",
       "      <td>1962-07-19</td>\n",
       "      <td>BRIDGEPORT, CA</td>\n",
       "      <td>United States</td>\n",
       "      <td>Unknown</td>\n",
       "      <td>Unknown</td>\n",
       "      <td>Fatal(4)</td>\n",
       "      <td>Destroyed</td>\n",
       "      <td>...</td>\n",
       "      <td>Reciprocating</td>\n",
       "      <td>Personal</td>\n",
       "      <td>4.0</td>\n",
       "      <td>0.0</td>\n",
       "      <td>0.0</td>\n",
       "      <td>0.0</td>\n",
       "      <td>UNK</td>\n",
       "      <td>Unknown</td>\n",
       "      <td>Probable Cause</td>\n",
       "      <td>19-09-1996</td>\n",
       "    </tr>\n",
       "    <tr>\n",
       "      <th>2</th>\n",
       "      <td>20061025X01555</td>\n",
       "      <td>Accident</td>\n",
       "      <td>NYC07LA005</td>\n",
       "      <td>1974-08-30</td>\n",
       "      <td>Saltville, VA</td>\n",
       "      <td>United States</td>\n",
       "      <td>Unknown</td>\n",
       "      <td>Unknown</td>\n",
       "      <td>Fatal(3)</td>\n",
       "      <td>Destroyed</td>\n",
       "      <td>...</td>\n",
       "      <td>Reciprocating</td>\n",
       "      <td>Personal</td>\n",
       "      <td>3.0</td>\n",
       "      <td>NaN</td>\n",
       "      <td>NaN</td>\n",
       "      <td>NaN</td>\n",
       "      <td>IMC</td>\n",
       "      <td>Cruise</td>\n",
       "      <td>Probable Cause</td>\n",
       "      <td>26-02-2007</td>\n",
       "    </tr>\n",
       "    <tr>\n",
       "      <th>3</th>\n",
       "      <td>20001218X45448</td>\n",
       "      <td>Accident</td>\n",
       "      <td>LAX96LA321</td>\n",
       "      <td>1977-06-19</td>\n",
       "      <td>EUREKA, CA</td>\n",
       "      <td>United States</td>\n",
       "      <td>Unknown</td>\n",
       "      <td>Unknown</td>\n",
       "      <td>Fatal(2)</td>\n",
       "      <td>Destroyed</td>\n",
       "      <td>...</td>\n",
       "      <td>Reciprocating</td>\n",
       "      <td>Personal</td>\n",
       "      <td>2.0</td>\n",
       "      <td>0.0</td>\n",
       "      <td>0.0</td>\n",
       "      <td>0.0</td>\n",
       "      <td>IMC</td>\n",
       "      <td>Cruise</td>\n",
       "      <td>Probable Cause</td>\n",
       "      <td>12-09-2000</td>\n",
       "    </tr>\n",
       "    <tr>\n",
       "      <th>4</th>\n",
       "      <td>20041105X01764</td>\n",
       "      <td>Accident</td>\n",
       "      <td>CHI79FA064</td>\n",
       "      <td>1979-08-02</td>\n",
       "      <td>Canton, OH</td>\n",
       "      <td>United States</td>\n",
       "      <td>Unknown</td>\n",
       "      <td>Unknown</td>\n",
       "      <td>Fatal(1)</td>\n",
       "      <td>Destroyed</td>\n",
       "      <td>...</td>\n",
       "      <td>Unknown</td>\n",
       "      <td>Personal</td>\n",
       "      <td>1.0</td>\n",
       "      <td>2.0</td>\n",
       "      <td>NaN</td>\n",
       "      <td>0.0</td>\n",
       "      <td>VMC</td>\n",
       "      <td>Approach</td>\n",
       "      <td>Probable Cause</td>\n",
       "      <td>16-04-1980</td>\n",
       "    </tr>\n",
       "    <tr>\n",
       "      <th>...</th>\n",
       "      <td>...</td>\n",
       "      <td>...</td>\n",
       "      <td>...</td>\n",
       "      <td>...</td>\n",
       "      <td>...</td>\n",
       "      <td>...</td>\n",
       "      <td>...</td>\n",
       "      <td>...</td>\n",
       "      <td>...</td>\n",
       "      <td>...</td>\n",
       "      <td>...</td>\n",
       "      <td>...</td>\n",
       "      <td>...</td>\n",
       "      <td>...</td>\n",
       "      <td>...</td>\n",
       "      <td>...</td>\n",
       "      <td>...</td>\n",
       "      <td>...</td>\n",
       "      <td>...</td>\n",
       "      <td>...</td>\n",
       "      <td>...</td>\n",
       "    </tr>\n",
       "    <tr>\n",
       "      <th>88884</th>\n",
       "      <td>20221227106491</td>\n",
       "      <td>Accident</td>\n",
       "      <td>ERA23LA093</td>\n",
       "      <td>2022-12-26</td>\n",
       "      <td>Annapolis, MD</td>\n",
       "      <td>United States</td>\n",
       "      <td>Unknown</td>\n",
       "      <td>Unknown</td>\n",
       "      <td>Minor</td>\n",
       "      <td>Unknown</td>\n",
       "      <td>...</td>\n",
       "      <td>Unknown</td>\n",
       "      <td>Personal</td>\n",
       "      <td>0.0</td>\n",
       "      <td>1.0</td>\n",
       "      <td>0.0</td>\n",
       "      <td>0.0</td>\n",
       "      <td>Unknown</td>\n",
       "      <td>Unknown</td>\n",
       "      <td>Unknown</td>\n",
       "      <td>29-12-2022</td>\n",
       "    </tr>\n",
       "    <tr>\n",
       "      <th>88885</th>\n",
       "      <td>20221227106494</td>\n",
       "      <td>Accident</td>\n",
       "      <td>ERA23LA095</td>\n",
       "      <td>2022-12-26</td>\n",
       "      <td>Hampton, NH</td>\n",
       "      <td>United States</td>\n",
       "      <td>Unknown</td>\n",
       "      <td>Unknown</td>\n",
       "      <td>Unknown</td>\n",
       "      <td>Unknown</td>\n",
       "      <td>...</td>\n",
       "      <td>Unknown</td>\n",
       "      <td>Unknown</td>\n",
       "      <td>0.0</td>\n",
       "      <td>0.0</td>\n",
       "      <td>0.0</td>\n",
       "      <td>0.0</td>\n",
       "      <td>Unknown</td>\n",
       "      <td>Unknown</td>\n",
       "      <td>Unknown</td>\n",
       "      <td>Unknown</td>\n",
       "    </tr>\n",
       "    <tr>\n",
       "      <th>88886</th>\n",
       "      <td>20221227106497</td>\n",
       "      <td>Accident</td>\n",
       "      <td>WPR23LA075</td>\n",
       "      <td>2022-12-26</td>\n",
       "      <td>Payson, AZ</td>\n",
       "      <td>United States</td>\n",
       "      <td>PAN</td>\n",
       "      <td>PAYSON</td>\n",
       "      <td>Non-Fatal</td>\n",
       "      <td>Substantial</td>\n",
       "      <td>...</td>\n",
       "      <td>Unknown</td>\n",
       "      <td>Personal</td>\n",
       "      <td>0.0</td>\n",
       "      <td>0.0</td>\n",
       "      <td>0.0</td>\n",
       "      <td>1.0</td>\n",
       "      <td>VMC</td>\n",
       "      <td>Unknown</td>\n",
       "      <td>Unknown</td>\n",
       "      <td>27-12-2022</td>\n",
       "    </tr>\n",
       "    <tr>\n",
       "      <th>88887</th>\n",
       "      <td>20221227106498</td>\n",
       "      <td>Accident</td>\n",
       "      <td>WPR23LA076</td>\n",
       "      <td>2022-12-26</td>\n",
       "      <td>Morgan, UT</td>\n",
       "      <td>United States</td>\n",
       "      <td>Unknown</td>\n",
       "      <td>Unknown</td>\n",
       "      <td>Unknown</td>\n",
       "      <td>Unknown</td>\n",
       "      <td>...</td>\n",
       "      <td>Unknown</td>\n",
       "      <td>Personal</td>\n",
       "      <td>0.0</td>\n",
       "      <td>0.0</td>\n",
       "      <td>0.0</td>\n",
       "      <td>0.0</td>\n",
       "      <td>Unknown</td>\n",
       "      <td>Unknown</td>\n",
       "      <td>Unknown</td>\n",
       "      <td>Unknown</td>\n",
       "    </tr>\n",
       "    <tr>\n",
       "      <th>88888</th>\n",
       "      <td>20221230106513</td>\n",
       "      <td>Accident</td>\n",
       "      <td>ERA23LA097</td>\n",
       "      <td>2022-12-29</td>\n",
       "      <td>Athens, GA</td>\n",
       "      <td>United States</td>\n",
       "      <td>Unknown</td>\n",
       "      <td>Unknown</td>\n",
       "      <td>Minor</td>\n",
       "      <td>Unknown</td>\n",
       "      <td>...</td>\n",
       "      <td>Unknown</td>\n",
       "      <td>Personal</td>\n",
       "      <td>0.0</td>\n",
       "      <td>1.0</td>\n",
       "      <td>0.0</td>\n",
       "      <td>1.0</td>\n",
       "      <td>Unknown</td>\n",
       "      <td>Unknown</td>\n",
       "      <td>Unknown</td>\n",
       "      <td>30-12-2022</td>\n",
       "    </tr>\n",
       "  </tbody>\n",
       "</table>\n",
       "<p>87951 rows × 25 columns</p>\n",
       "</div>"
      ],
      "text/plain": [
       "             Event.Id Investigation.Type Accident.Number  Event.Date  \\\n",
       "0      20001218X45444           Accident      SEA87LA080  1948-10-24   \n",
       "1      20001218X45447           Accident      LAX94LA336  1962-07-19   \n",
       "2      20061025X01555           Accident      NYC07LA005  1974-08-30   \n",
       "3      20001218X45448           Accident      LAX96LA321  1977-06-19   \n",
       "4      20041105X01764           Accident      CHI79FA064  1979-08-02   \n",
       "...               ...                ...             ...         ...   \n",
       "88884  20221227106491           Accident      ERA23LA093  2022-12-26   \n",
       "88885  20221227106494           Accident      ERA23LA095  2022-12-26   \n",
       "88886  20221227106497           Accident      WPR23LA075  2022-12-26   \n",
       "88887  20221227106498           Accident      WPR23LA076  2022-12-26   \n",
       "88888  20221230106513           Accident      ERA23LA097  2022-12-29   \n",
       "\n",
       "              Location        Country Airport.Code Airport.Name  \\\n",
       "0      MOOSE CREEK, ID  United States      Unknown      Unknown   \n",
       "1       BRIDGEPORT, CA  United States      Unknown      Unknown   \n",
       "2        Saltville, VA  United States      Unknown      Unknown   \n",
       "3           EUREKA, CA  United States      Unknown      Unknown   \n",
       "4           Canton, OH  United States      Unknown      Unknown   \n",
       "...                ...            ...          ...          ...   \n",
       "88884    Annapolis, MD  United States      Unknown      Unknown   \n",
       "88885      Hampton, NH  United States      Unknown      Unknown   \n",
       "88886       Payson, AZ  United States          PAN       PAYSON   \n",
       "88887       Morgan, UT  United States      Unknown      Unknown   \n",
       "88888       Athens, GA  United States      Unknown      Unknown   \n",
       "\n",
       "      Injury.Severity Aircraft.damage  ...    Engine.Type Purpose.of.flight  \\\n",
       "0            Fatal(2)       Destroyed  ...  Reciprocating          Personal   \n",
       "1            Fatal(4)       Destroyed  ...  Reciprocating          Personal   \n",
       "2            Fatal(3)       Destroyed  ...  Reciprocating          Personal   \n",
       "3            Fatal(2)       Destroyed  ...  Reciprocating          Personal   \n",
       "4            Fatal(1)       Destroyed  ...        Unknown          Personal   \n",
       "...               ...             ...  ...            ...               ...   \n",
       "88884           Minor         Unknown  ...        Unknown          Personal   \n",
       "88885         Unknown         Unknown  ...        Unknown           Unknown   \n",
       "88886       Non-Fatal     Substantial  ...        Unknown          Personal   \n",
       "88887         Unknown         Unknown  ...        Unknown          Personal   \n",
       "88888           Minor         Unknown  ...        Unknown          Personal   \n",
       "\n",
       "      Total.Fatal.Injuries Total.Serious.Injuries  Total.Minor.Injuries  \\\n",
       "0                      2.0                    0.0                   0.0   \n",
       "1                      4.0                    0.0                   0.0   \n",
       "2                      3.0                    NaN                   NaN   \n",
       "3                      2.0                    0.0                   0.0   \n",
       "4                      1.0                    2.0                   NaN   \n",
       "...                    ...                    ...                   ...   \n",
       "88884                  0.0                    1.0                   0.0   \n",
       "88885                  0.0                    0.0                   0.0   \n",
       "88886                  0.0                    0.0                   0.0   \n",
       "88887                  0.0                    0.0                   0.0   \n",
       "88888                  0.0                    1.0                   0.0   \n",
       "\n",
       "      Total.Uninjured Weather.Condition  Broad.phase.of.flight  \\\n",
       "0                 0.0               UNK                 Cruise   \n",
       "1                 0.0               UNK                Unknown   \n",
       "2                 NaN               IMC                 Cruise   \n",
       "3                 0.0               IMC                 Cruise   \n",
       "4                 0.0               VMC               Approach   \n",
       "...               ...               ...                    ...   \n",
       "88884             0.0           Unknown                Unknown   \n",
       "88885             0.0           Unknown                Unknown   \n",
       "88886             1.0               VMC                Unknown   \n",
       "88887             0.0           Unknown                Unknown   \n",
       "88888             1.0           Unknown                Unknown   \n",
       "\n",
       "        Report.Status  Publication.Date  \n",
       "0      Probable Cause           Unknown  \n",
       "1      Probable Cause        19-09-1996  \n",
       "2      Probable Cause        26-02-2007  \n",
       "3      Probable Cause        12-09-2000  \n",
       "4      Probable Cause        16-04-1980  \n",
       "...               ...               ...  \n",
       "88884         Unknown        29-12-2022  \n",
       "88885         Unknown           Unknown  \n",
       "88886         Unknown        27-12-2022  \n",
       "88887         Unknown           Unknown  \n",
       "88888         Unknown        30-12-2022  \n",
       "\n",
       "[87951 rows x 25 columns]"
      ]
     },
     "execution_count": 294,
     "metadata": {},
     "output_type": "execute_result"
    }
   ],
   "source": [
    "aviation_data = aviation_data.drop_duplicates(subset=['Event.Id'])\n",
    "aviation_data"
   ]
  },
  {
   "cell_type": "markdown",
   "id": "6795548e",
   "metadata": {},
   "source": [
    "***<span style=\"font-size: 18px;\">8. Outliers </span>***"
   ]
  },
  {
   "cell_type": "markdown",
   "id": "532688ae",
   "metadata": {},
   "source": [
    "- Statistical summaries. "
   ]
  },
  {
   "cell_type": "code",
   "execution_count": 296,
   "id": "ed44398f",
   "metadata": {},
   "outputs": [
    {
     "data": {
      "text/html": [
       "<div>\n",
       "<style scoped>\n",
       "    .dataframe tbody tr th:only-of-type {\n",
       "        vertical-align: middle;\n",
       "    }\n",
       "\n",
       "    .dataframe tbody tr th {\n",
       "        vertical-align: top;\n",
       "    }\n",
       "\n",
       "    .dataframe thead th {\n",
       "        text-align: right;\n",
       "    }\n",
       "</style>\n",
       "<table border=\"1\" class=\"dataframe\">\n",
       "  <thead>\n",
       "    <tr style=\"text-align: right;\">\n",
       "      <th></th>\n",
       "      <th>Number.of.Engines</th>\n",
       "      <th>Total.Fatal.Injuries</th>\n",
       "      <th>Total.Serious.Injuries</th>\n",
       "      <th>Total.Minor.Injuries</th>\n",
       "      <th>Total.Uninjured</th>\n",
       "    </tr>\n",
       "  </thead>\n",
       "  <tbody>\n",
       "    <tr>\n",
       "      <th>count</th>\n",
       "      <td>81924.000000</td>\n",
       "      <td>76684.000000</td>\n",
       "      <td>75629.000000</td>\n",
       "      <td>76191.000000</td>\n",
       "      <td>82088.000000</td>\n",
       "    </tr>\n",
       "    <tr>\n",
       "      <th>mean</th>\n",
       "      <td>1.144622</td>\n",
       "      <td>0.633587</td>\n",
       "      <td>0.280554</td>\n",
       "      <td>0.356013</td>\n",
       "      <td>5.086639</td>\n",
       "    </tr>\n",
       "    <tr>\n",
       "      <th>std</th>\n",
       "      <td>0.443127</td>\n",
       "      <td>5.303900</td>\n",
       "      <td>1.549688</td>\n",
       "      <td>2.238239</td>\n",
       "      <td>26.635398</td>\n",
       "    </tr>\n",
       "    <tr>\n",
       "      <th>min</th>\n",
       "      <td>0.000000</td>\n",
       "      <td>0.000000</td>\n",
       "      <td>0.000000</td>\n",
       "      <td>0.000000</td>\n",
       "      <td>0.000000</td>\n",
       "    </tr>\n",
       "    <tr>\n",
       "      <th>25%</th>\n",
       "      <td>1.000000</td>\n",
       "      <td>0.000000</td>\n",
       "      <td>0.000000</td>\n",
       "      <td>0.000000</td>\n",
       "      <td>0.000000</td>\n",
       "    </tr>\n",
       "    <tr>\n",
       "      <th>50%</th>\n",
       "      <td>1.000000</td>\n",
       "      <td>0.000000</td>\n",
       "      <td>0.000000</td>\n",
       "      <td>0.000000</td>\n",
       "      <td>1.000000</td>\n",
       "    </tr>\n",
       "    <tr>\n",
       "      <th>75%</th>\n",
       "      <td>1.000000</td>\n",
       "      <td>0.000000</td>\n",
       "      <td>0.000000</td>\n",
       "      <td>0.000000</td>\n",
       "      <td>2.000000</td>\n",
       "    </tr>\n",
       "    <tr>\n",
       "      <th>max</th>\n",
       "      <td>8.000000</td>\n",
       "      <td>349.000000</td>\n",
       "      <td>161.000000</td>\n",
       "      <td>380.000000</td>\n",
       "      <td>699.000000</td>\n",
       "    </tr>\n",
       "  </tbody>\n",
       "</table>\n",
       "</div>"
      ],
      "text/plain": [
       "       Number.of.Engines  Total.Fatal.Injuries  Total.Serious.Injuries  \\\n",
       "count       81924.000000          76684.000000            75629.000000   \n",
       "mean            1.144622              0.633587                0.280554   \n",
       "std             0.443127              5.303900                1.549688   \n",
       "min             0.000000              0.000000                0.000000   \n",
       "25%             1.000000              0.000000                0.000000   \n",
       "50%             1.000000              0.000000                0.000000   \n",
       "75%             1.000000              0.000000                0.000000   \n",
       "max             8.000000            349.000000              161.000000   \n",
       "\n",
       "       Total.Minor.Injuries  Total.Uninjured  \n",
       "count          76191.000000     82088.000000  \n",
       "mean               0.356013         5.086639  \n",
       "std                2.238239        26.635398  \n",
       "min                0.000000         0.000000  \n",
       "25%                0.000000         0.000000  \n",
       "50%                0.000000         1.000000  \n",
       "75%                0.000000         2.000000  \n",
       "max              380.000000       699.000000  "
      ]
     },
     "execution_count": 296,
     "metadata": {},
     "output_type": "execute_result"
    }
   ],
   "source": [
    "aviation_data.describe()"
   ]
  },
  {
   "cell_type": "markdown",
   "id": "f147861b",
   "metadata": {},
   "source": [
    "- Checking for outliars"
   ]
  },
  {
   "cell_type": "code",
   "execution_count": 297,
   "id": "28242102",
   "metadata": {},
   "outputs": [],
   "source": [
    "def find_outliers(column):\n",
    "    Q1 = aviation_data[column].quantile(0.25)\n",
    "    Q3 = aviation_data[column].quantile(0.75)\n",
    "    IQR = Q3 - Q1\n",
    "    lower = Q1 - 1.5 * IQR\n",
    "    upper = Q3 + 1.5 * IQR\n",
    "    outliers = aviation_data[(aviation_data[column] < lower) | (aviation_data[column] > upper)]\n",
    "    print(f\"{column}: {len(outliers)} outliers\")\n",
    "    return outliers"
   ]
  },
  {
   "cell_type": "code",
   "execution_count": 298,
   "id": "4f632b8e",
   "metadata": {},
   "outputs": [
    {
     "name": "stdout",
     "output_type": "stream",
     "text": [
      "Number.of.Engines: 12968 outliers\n",
      "Total.Fatal.Injuries: 17527 outliers\n",
      "Total.Serious.Injuries: 12991 outliers\n",
      "Total.Minor.Injuries: 15356 outliers\n",
      "Total.Uninjured: 3969 outliers\n"
     ]
    }
   ],
   "source": [
    "numeric_cols = aviation_data.select_dtypes(include=[np.number]).columns\n",
    "for col in numeric_cols:\n",
    "    find_outliers(col)"
   ]
  },
  {
   "cell_type": "markdown",
   "id": "0c8d9bf4",
   "metadata": {},
   "source": [
    "- Visualizing outliars by plotting a histogram"
   ]
  },
  {
   "cell_type": "code",
   "execution_count": 299,
   "id": "913bd86b",
   "metadata": {},
   "outputs": [
    {
     "data": {
      "image/png": "[encoded data removed]",
      "text/plain": [
       "<Figure size 1500x1000 with 1 Axes>"
      ]
     },
     "metadata": {},
     "output_type": "display_data"
    }
   ],
   "source": [
    "aviation_data.boxplot(figsize=(15, 10), vert=True, color='green')\n",
    "plt.title('Aviation Data Box Plots')\n",
    "plt.tight_layout()\n",
    "plt.show()"
   ]
  },
  {
   "cell_type": "markdown",
   "id": "cf55a3ed",
   "metadata": {},
   "source": [
    "***<span style=\"font-size: 18px;\">9. Standardizing columns</span>***"
   ]
  },
  {
   "cell_type": "code",
   "execution_count": 309,
   "id": "25542edc",
   "metadata": {},
   "outputs": [
    {
     "data": {
      "text/plain": [
       "Index(['Event.Id', 'Investigation.Type', 'Accident.Number', 'Event.Date',\n",
       "       'Location', 'Country', 'Airport.Code', 'Airport.Name',\n",
       "       'Injury.Severity', 'Aircraft.damage', 'Registration.Number', 'Make',\n",
       "       'Model', 'Amateur.Built', 'Number.of.Engines', 'Engine.Type',\n",
       "       'Purpose.of.flight', 'Total.Fatal.Injuries', 'Total.Serious.Injuries',\n",
       "       'Total.Minor.Injuries', 'Total.Uninjured', 'Weather.Condition',\n",
       "       'Broad.phase.of.flight', 'Report.Status', 'Publication.Date'],\n",
       "      dtype='object')"
      ]
     },
     "execution_count": 309,
     "metadata": {},
     "output_type": "execute_result"
    }
   ],
   "source": [
    "aviation_data.columns"
   ]
  },
  {
   "cell_type": "markdown",
   "id": "1b8217df",
   "metadata": {},
   "source": [
    "- Standardizing the Country column\n"
   ]
  },
  {
   "cell_type": "code",
   "execution_count": 300,
   "id": "22af109a",
   "metadata": {},
   "outputs": [
    {
     "data": {
      "text/plain": [
       "0        USA\n",
       "1        USA\n",
       "2        USA\n",
       "3        USA\n",
       "4        USA\n",
       "        ... \n",
       "88884    USA\n",
       "88885    USA\n",
       "88886    USA\n",
       "88887    USA\n",
       "88888    USA\n",
       "Name: Country, Length: 87951, dtype: object"
      ]
     },
     "execution_count": 300,
     "metadata": {},
     "output_type": "execute_result"
    }
   ],
   "source": [
    "aviation_data['Country'] = aviation_data['Country'].replace({'US': 'USA', 'United States': 'USA'})\n",
    "aviation_data['Country']"
   ]
  },
  {
   "cell_type": "markdown",
   "id": "21467f11",
   "metadata": {},
   "source": [
    "- Standardizing Amateur Built column\n"
   ]
  },
  {
   "cell_type": "code",
   "execution_count": 301,
   "id": "82174fc8",
   "metadata": {},
   "outputs": [
    {
     "data": {
      "text/plain": [
       "0        No\n",
       "1        No\n",
       "2        No\n",
       "3        No\n",
       "4        No\n",
       "         ..\n",
       "88884    No\n",
       "88885    No\n",
       "88886    No\n",
       "88887    No\n",
       "88888    No\n",
       "Name: Amateur.Built, Length: 87951, dtype: object"
      ]
     },
     "execution_count": 301,
     "metadata": {},
     "output_type": "execute_result"
    }
   ],
   "source": [
    "aviation_data['Amateur.Built'] = aviation_data['Amateur.Built'].replace({'Y': 'Yes', 'N': 'No', 'UNK': 'Unknown'})\n",
    "aviation_data['Amateur.Built']"
   ]
  },
  {
   "cell_type": "code",
   "execution_count": 311,
   "id": "29f69ef7",
   "metadata": {},
   "outputs": [
    {
     "data": {
      "text/plain": [
       "0        UNK\n",
       "1        UNK\n",
       "2        IMC\n",
       "3        IMC\n",
       "4        VMC\n",
       "        ... \n",
       "88884    UNK\n",
       "88885    UNK\n",
       "88886    VMC\n",
       "88887    UNK\n",
       "88888    UNK\n",
       "Name: Weather.Condition, Length: 87951, dtype: object"
      ]
     },
     "execution_count": 311,
     "metadata": {},
     "output_type": "execute_result"
    }
   ],
   "source": [
    "aviation_data['Weather.Condition'] = aviation_data['Weather.Condition'].replace({'Unk': 'UNK', 'Unknown': 'UNK'})\n",
    "aviation_data['Weather.Condition']"
   ]
  },
  {
   "cell_type": "markdown",
   "id": "04759e66",
   "metadata": {},
   "source": [
    "***<span style=\"font-size: 18px;\">10. Plotting charts</span>***"
   ]
  },
  {
   "cell_type": "markdown",
   "id": "488ef5c3",
   "metadata": {},
   "source": [
    "-  Plotting aircraft damage types"
   ]
  },
  {
   "cell_type": "code",
   "execution_count": 316,
   "id": "1dc285d5",
   "metadata": {},
   "outputs": [
    {
     "data": {
      "image/png": "[encoded data removed]",
      "text/plain": [
       "<Figure size 800x500 with 1 Axes>"
      ]
     },
     "metadata": {},
     "output_type": "display_data"
    }
   ],
   "source": [
    "damage_counts = aviation_data['Aircraft.damage'].value_counts()\n",
    "\n",
    "plt.figure(figsize=(8, 5))\n",
    "plt.bar(damage_counts.index, damage_counts.values, color='skyblue')\n",
    "plt.title('Aircraft Damage Types')\n",
    "plt.xlabel('Number of Incidents')\n",
    "plt.ylabel('Damage Level')\n",
    "plt.tight_layout()\n",
    "plt.show()"
   ]
  },
  {
   "cell_type": "markdown",
   "id": "a7485797",
   "metadata": {},
   "source": [
    "- Plotting the distribution of weather conditions"
   ]
  },
  {
   "cell_type": "code",
   "execution_count": 317,
   "id": "5049303d",
   "metadata": {},
   "outputs": [
    {
     "data": {
      "image/png": "[encoded data removed]",
      "text/plain": [
       "<Figure size 800x500 with 1 Axes>"
      ]
     },
     "metadata": {},
     "output_type": "display_data"
    }
   ],
   "source": [
    "weather_counts = aviation_data['Weather.Condition'].value_counts()\n",
    "\n",
    "plt.figure(figsize=(8, 5))\n",
    "plt.bar(weather_counts.index, weather_counts.values, color='silver')\n",
    "plt.title('Distribution of Weather Conditions')\n",
    "plt.xlabel('Weather Condition')\n",
    "plt.ylabel('Count')\n",
    "plt.xticks(rotation=45)\n",
    "plt.tight_layout()\n",
    "plt.show()"
   ]
  },
  {
   "cell_type": "markdown",
   "id": "8827fa5c",
   "metadata": {},
   "source": [
    "- Plotting the engine type distribution"
   ]
  },
  {
   "cell_type": "code",
   "execution_count": 318,
   "id": "33b0f889",
   "metadata": {},
   "outputs": [
    {
     "data": {
      "image/png": "[encoded data removed]",
      "text/plain": [
       "<Figure size 800x500 with 1 Axes>"
      ]
     },
     "metadata": {},
     "output_type": "display_data"
    }
   ],
   "source": [
    "engine_counts = aviation_data['Engine.Type'].value_counts()\n",
    "\n",
    "plt.figure(figsize=(8, 5))\n",
    "plt.barh(engine_counts.index, engine_counts.values, color='green')\n",
    "plt.title('Engine Type Distribution')\n",
    "plt.xlabel('Number of Aircraft')\n",
    "plt.ylabel('Engine Type')\n",
    "plt.tight_layout()\n",
    "plt.show()"
   ]
  },
  {
   "cell_type": "markdown",
   "id": "68df9040",
   "metadata": {},
   "source": [
    "***<span style=\"font-size: 18px;\">11. Checking and saving the cleaned data</span>***\n"
   ]
  },
  {
   "cell_type": "code",
   "execution_count": 314,
   "id": "1649314a",
   "metadata": {},
   "outputs": [
    {
     "data": {
      "text/plain": [
       "(87951, 25)"
      ]
     },
     "execution_count": 314,
     "metadata": {},
     "output_type": "execute_result"
    }
   ],
   "source": [
    "aviation_data.shape\n"
   ]
  },
  {
   "cell_type": "markdown",
   "id": "c0f8e1cf",
   "metadata": {},
   "source": [
    "- Saving the data\n"
   ]
  },
  {
   "cell_type": "code",
   "execution_count": 319,
   "id": "6f073334",
   "metadata": {},
   "outputs": [
    {
     "name": "stdout",
     "output_type": "stream",
     "text": [
      "Cleaned data saved!\n"
     ]
    }
   ],
   "source": [
    "aviation_data.to_csv('cleaned_aviation_data.csv', index=False)\n",
    "print(\"Cleaned data saved!\")"
   ]
  }
 ],
 "metadata": {
  "kernelspec": {
   "display_name": "base",
   "language": "python",
   "name": "python3"
  },
  "language_info": {
   "codemirror_mode": {
    "name": "ipython",
    "version": 3
   },
   "file_extension": ".py",
   "mimetype": "text/x-python",
   "name": "python",
   "nbconvert_exporter": "python",
   "pygments_lexer": "ipython3",
   "version": "3.11.7"
  }
 },
 "nbformat": 4,
 "nbformat_minor": 5
}
