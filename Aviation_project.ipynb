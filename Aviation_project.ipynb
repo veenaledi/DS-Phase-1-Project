{
 "cells": [
  {
   "cell_type": "markdown",
   "id": "e8de9643",
   "metadata": {},
   "source": [
    "__<font size=\"5\">PHASE 1 PROJECT</font>__ "
   ]
  },
  {
   "cell_type": "markdown",
   "id": "ab85b950",
   "metadata": {},
   "source": [
    "__<font size=\"5\">Aviation Risk Assessment Analysis</font>__ "
   ]
  },
  {
   "cell_type": "markdown",
   "id": "10792977",
   "metadata": {},
   "source": [
    "- __<span style=\"font-size: 20px;\">Business Understanding</span>__"
   ]
  },
  {
   "cell_type": "markdown",
   "id": "66daea2d",
   "metadata": {},
   "source": [
    "__The Problem:__\n",
    " The company wants to start a new airplane business, but doesn't know which planes are safe to buy and operate. "
   ]
  },
  {
   "cell_type": "markdown",
   "id": "0b99e6e2",
   "metadata": {},
   "source": [
    "The head of the new airplane division needs clear information to decide which planes to purchase. I need to find out which airplanes have the fewest accidents and problems so the company can buy the safest ones first. \n",
    "- By picking the safest airplanes, the company can: save money, avoid disasters, and build a successful new business without taking unnecessary risks."
   ]
  },
  {
   "cell_type": "markdown",
   "id": "0597e9a3",
   "metadata": {},
   "source": [
    "- __<span style=\"font-size: 20px;\">Data Understanding</span>__\n"
   ]
  },
  {
   "cell_type": "markdown",
   "id": "b8441fbe",
   "metadata": {},
   "source": [
    "- __The Data Source:__ The analysis uses aviation accident data from Kaggle.\n",
    "- __Time Period of dataset:__ This dataset has been collected from 1948 - 2022.\n",
    "- __Data Limitations:__ The data set only includes reported accidents, the newer aircrafts have less historical data and it may not capture all operational factors affecting safety"
   ]
  },
  {
   "cell_type": "markdown",
   "id": "c4453170",
   "metadata": {},
   "source": [
    "The data provides the best available evidence for comparing aircraft safety and making informed purchasing decisions for our aviation business."
   ]
  },
  {
   "cell_type": "markdown",
   "id": "06144701",
   "metadata": {},
   "source": [
    "- __<span style=\"font-size: 20px;\">Data Preparation</span>__\n"
   ]
  },
  {
   "cell_type": "markdown",
   "id": "e90d1b9a",
   "metadata": {},
   "source": [
    "***<span style=\"font-size: 18px;\">1. Importing Libraries</span>***"
   ]
  },
  {
   "cell_type": "code",
   "execution_count": 1,
   "id": "9bbb8e8b",
   "metadata": {},
   "outputs": [],
   "source": [
    "import pandas as pd\n",
    "import numpy as np\n",
    "import matplotlib.pyplot as plt\n",
    "import zipfile\n",
    "import seaborn as sns"
   ]
  },
  {
   "cell_type": "markdown",
   "id": "6de402ca",
   "metadata": {},
   "source": [
    "***<span style=\"font-size: 18px;\">2. Loading the Data</span>***\n"
   ]
  },
  {
   "cell_type": "markdown",
   "id": "441a9c23",
   "metadata": {},
   "source": [
    "- Get the zip path. Extract the contents."
   ]
  },
  {
   "cell_type": "code",
   "execution_count": 2,
   "id": "2f2d45ea",
   "metadata": {},
   "outputs": [],
   "source": [
    "zip_path = \"AviationData.csv.zip\"\n",
    "\n",
    "# Extract contents\n",
    "with zipfile.ZipFile(zip_path, 'r') as zip_ref:\n",
    "    zip_ref.extractall(\"unzipped_folder\")"
   ]
  },
  {
   "cell_type": "markdown",
   "id": "a0f2eeff",
   "metadata": {},
   "source": [
    "- Load the extracted dataset "
   ]
  },
  {
   "cell_type": "code",
   "execution_count": 3,
   "id": "ffaf8569",
   "metadata": {},
   "outputs": [],
   "source": [
    "aviation_data = pd.read_csv(\"unzipped_folder/AviationData.csv\", encoding='ISO-8859-1', low_memory=False)"
   ]
  },
  {
   "cell_type": "markdown",
   "id": "5fb883d2",
   "metadata": {},
   "source": [
    "- Viewing the rows"
   ]
  },
  {
   "cell_type": "code",
   "execution_count": 4,
   "id": "4d818f2e",
   "metadata": {},
   "outputs": [
    {
     "data": {
      "text/html": [
       "<div>\n",
       "<style scoped>\n",
       "    .dataframe tbody tr th:only-of-type {\n",
       "        vertical-align: middle;\n",
       "    }\n",
       "\n",
       "    .dataframe tbody tr th {\n",
       "        vertical-align: top;\n",
       "    }\n",
       "\n",
       "    .dataframe thead th {\n",
       "        text-align: right;\n",
       "    }\n",
       "</style>\n",
       "<table border=\"1\" class=\"dataframe\">\n",
       "  <thead>\n",
       "    <tr style=\"text-align: right;\">\n",
       "      <th></th>\n",
       "      <th>Event.Id</th>\n",
       "      <th>Investigation.Type</th>\n",
       "      <th>Accident.Number</th>\n",
       "      <th>Event.Date</th>\n",
       "      <th>Location</th>\n",
       "      <th>Country</th>\n",
       "      <th>Latitude</th>\n",
       "      <th>Longitude</th>\n",
       "      <th>Airport.Code</th>\n",
       "      <th>Airport.Name</th>\n",
       "      <th>...</th>\n",
       "      <th>Purpose.of.flight</th>\n",
       "      <th>Air.carrier</th>\n",
       "      <th>Total.Fatal.Injuries</th>\n",
       "      <th>Total.Serious.Injuries</th>\n",
       "      <th>Total.Minor.Injuries</th>\n",
       "      <th>Total.Uninjured</th>\n",
       "      <th>Weather.Condition</th>\n",
       "      <th>Broad.phase.of.flight</th>\n",
       "      <th>Report.Status</th>\n",
       "      <th>Publication.Date</th>\n",
       "    </tr>\n",
       "  </thead>\n",
       "  <tbody>\n",
       "    <tr>\n",
       "      <th>0</th>\n",
       "      <td>20001218X45444</td>\n",
       "      <td>Accident</td>\n",
       "      <td>SEA87LA080</td>\n",
       "      <td>1948-10-24</td>\n",
       "      <td>MOOSE CREEK, ID</td>\n",
       "      <td>United States</td>\n",
       "      <td>NaN</td>\n",
       "      <td>NaN</td>\n",
       "      <td>NaN</td>\n",
       "      <td>NaN</td>\n",
       "      <td>...</td>\n",
       "      <td>Personal</td>\n",
       "      <td>NaN</td>\n",
       "      <td>2.0</td>\n",
       "      <td>0.0</td>\n",
       "      <td>0.0</td>\n",
       "      <td>0.0</td>\n",
       "      <td>UNK</td>\n",
       "      <td>Cruise</td>\n",
       "      <td>Probable Cause</td>\n",
       "      <td>NaN</td>\n",
       "    </tr>\n",
       "    <tr>\n",
       "      <th>1</th>\n",
       "      <td>20001218X45447</td>\n",
       "      <td>Accident</td>\n",
       "      <td>LAX94LA336</td>\n",
       "      <td>1962-07-19</td>\n",
       "      <td>BRIDGEPORT, CA</td>\n",
       "      <td>United States</td>\n",
       "      <td>NaN</td>\n",
       "      <td>NaN</td>\n",
       "      <td>NaN</td>\n",
       "      <td>NaN</td>\n",
       "      <td>...</td>\n",
       "      <td>Personal</td>\n",
       "      <td>NaN</td>\n",
       "      <td>4.0</td>\n",
       "      <td>0.0</td>\n",
       "      <td>0.0</td>\n",
       "      <td>0.0</td>\n",
       "      <td>UNK</td>\n",
       "      <td>Unknown</td>\n",
       "      <td>Probable Cause</td>\n",
       "      <td>19-09-1996</td>\n",
       "    </tr>\n",
       "    <tr>\n",
       "      <th>2</th>\n",
       "      <td>20061025X01555</td>\n",
       "      <td>Accident</td>\n",
       "      <td>NYC07LA005</td>\n",
       "      <td>1974-08-30</td>\n",
       "      <td>Saltville, VA</td>\n",
       "      <td>United States</td>\n",
       "      <td>36.922223</td>\n",
       "      <td>-81.878056</td>\n",
       "      <td>NaN</td>\n",
       "      <td>NaN</td>\n",
       "      <td>...</td>\n",
       "      <td>Personal</td>\n",
       "      <td>NaN</td>\n",
       "      <td>3.0</td>\n",
       "      <td>NaN</td>\n",
       "      <td>NaN</td>\n",
       "      <td>NaN</td>\n",
       "      <td>IMC</td>\n",
       "      <td>Cruise</td>\n",
       "      <td>Probable Cause</td>\n",
       "      <td>26-02-2007</td>\n",
       "    </tr>\n",
       "    <tr>\n",
       "      <th>3</th>\n",
       "      <td>20001218X45448</td>\n",
       "      <td>Accident</td>\n",
       "      <td>LAX96LA321</td>\n",
       "      <td>1977-06-19</td>\n",
       "      <td>EUREKA, CA</td>\n",
       "      <td>United States</td>\n",
       "      <td>NaN</td>\n",
       "      <td>NaN</td>\n",
       "      <td>NaN</td>\n",
       "      <td>NaN</td>\n",
       "      <td>...</td>\n",
       "      <td>Personal</td>\n",
       "      <td>NaN</td>\n",
       "      <td>2.0</td>\n",
       "      <td>0.0</td>\n",
       "      <td>0.0</td>\n",
       "      <td>0.0</td>\n",
       "      <td>IMC</td>\n",
       "      <td>Cruise</td>\n",
       "      <td>Probable Cause</td>\n",
       "      <td>12-09-2000</td>\n",
       "    </tr>\n",
       "    <tr>\n",
       "      <th>4</th>\n",
       "      <td>20041105X01764</td>\n",
       "      <td>Accident</td>\n",
       "      <td>CHI79FA064</td>\n",
       "      <td>1979-08-02</td>\n",
       "      <td>Canton, OH</td>\n",
       "      <td>United States</td>\n",
       "      <td>NaN</td>\n",
       "      <td>NaN</td>\n",
       "      <td>NaN</td>\n",
       "      <td>NaN</td>\n",
       "      <td>...</td>\n",
       "      <td>Personal</td>\n",
       "      <td>NaN</td>\n",
       "      <td>1.0</td>\n",
       "      <td>2.0</td>\n",
       "      <td>NaN</td>\n",
       "      <td>0.0</td>\n",
       "      <td>VMC</td>\n",
       "      <td>Approach</td>\n",
       "      <td>Probable Cause</td>\n",
       "      <td>16-04-1980</td>\n",
       "    </tr>\n",
       "  </tbody>\n",
       "</table>\n",
       "<p>5 rows × 31 columns</p>\n",
       "</div>"
      ],
      "text/plain": [
       "         Event.Id Investigation.Type Accident.Number  Event.Date  \\\n",
       "0  20001218X45444           Accident      SEA87LA080  1948-10-24   \n",
       "1  20001218X45447           Accident      LAX94LA336  1962-07-19   \n",
       "2  20061025X01555           Accident      NYC07LA005  1974-08-30   \n",
       "3  20001218X45448           Accident      LAX96LA321  1977-06-19   \n",
       "4  20041105X01764           Accident      CHI79FA064  1979-08-02   \n",
       "\n",
       "          Location        Country   Latitude   Longitude Airport.Code  \\\n",
       "0  MOOSE CREEK, ID  United States        NaN         NaN          NaN   \n",
       "1   BRIDGEPORT, CA  United States        NaN         NaN          NaN   \n",
       "2    Saltville, VA  United States  36.922223  -81.878056          NaN   \n",
       "3       EUREKA, CA  United States        NaN         NaN          NaN   \n",
       "4       Canton, OH  United States        NaN         NaN          NaN   \n",
       "\n",
       "  Airport.Name  ... Purpose.of.flight Air.carrier Total.Fatal.Injuries  \\\n",
       "0          NaN  ...          Personal         NaN                  2.0   \n",
       "1          NaN  ...          Personal         NaN                  4.0   \n",
       "2          NaN  ...          Personal         NaN                  3.0   \n",
       "3          NaN  ...          Personal         NaN                  2.0   \n",
       "4          NaN  ...          Personal         NaN                  1.0   \n",
       "\n",
       "  Total.Serious.Injuries Total.Minor.Injuries Total.Uninjured  \\\n",
       "0                    0.0                  0.0             0.0   \n",
       "1                    0.0                  0.0             0.0   \n",
       "2                    NaN                  NaN             NaN   \n",
       "3                    0.0                  0.0             0.0   \n",
       "4                    2.0                  NaN             0.0   \n",
       "\n",
       "  Weather.Condition  Broad.phase.of.flight   Report.Status Publication.Date  \n",
       "0               UNK                 Cruise  Probable Cause              NaN  \n",
       "1               UNK                Unknown  Probable Cause       19-09-1996  \n",
       "2               IMC                 Cruise  Probable Cause       26-02-2007  \n",
       "3               IMC                 Cruise  Probable Cause       12-09-2000  \n",
       "4               VMC               Approach  Probable Cause       16-04-1980  \n",
       "\n",
       "[5 rows x 31 columns]"
      ]
     },
     "execution_count": 4,
     "metadata": {},
     "output_type": "execute_result"
    }
   ],
   "source": [
    "aviation_data.head()"
   ]
  },
  {
   "cell_type": "markdown",
   "id": "74e0a1c6",
   "metadata": {},
   "source": [
    "***<span style=\"font-size: 18px;\">3. Cleaning Data Types </span>***\n"
   ]
  },
  {
   "cell_type": "markdown",
   "id": "c71e6ce4",
   "metadata": {},
   "source": [
    "- Ensuring data types are in correct form\n"
   ]
  },
  {
   "cell_type": "code",
   "execution_count": 5,
   "id": "0939e064",
   "metadata": {},
   "outputs": [],
   "source": [
    "def fix_types(aviation_data):\n",
    "    for col in aviation_data.columns:\n",
    "        # Fix dates\n",
    "        if 'date' in col.lower():\n",
    "            aviation_data[col] = pd.to_datetime(aviation_data[col], errors='ignore')\n",
    "        \n",
    "        # Fix numbers\n",
    "        elif any(word in col.lower() for word in ['total', 'number', 'id', 'injuries', 'engines']):\n",
    "            aviation_data[col] = pd.to_numeric(aviation_data[col], errors='ignore')\n",
    "    \n",
    "    return aviation_data"
   ]
  },
  {
   "cell_type": "markdown",
   "id": "ea948639",
   "metadata": {},
   "source": [
    "***<span style=\"font-size: 18px;\">4. Time Period of Dataset</span>***"
   ]
  },
  {
   "cell_type": "markdown",
   "id": "cd1dada8",
   "metadata": {},
   "source": [
    "- Getting the earliest date"
   ]
  },
  {
   "cell_type": "code",
   "execution_count": 6,
   "id": "1100eb34",
   "metadata": {},
   "outputs": [
    {
     "data": {
      "text/plain": [
       "'1948-10-24'"
      ]
     },
     "execution_count": 6,
     "metadata": {},
     "output_type": "execute_result"
    }
   ],
   "source": [
    "aviation_data['Event.Date'].min() "
   ]
  },
  {
   "cell_type": "markdown",
   "id": "60b575c1",
   "metadata": {},
   "source": [
    "- Getting the latest date"
   ]
  },
  {
   "cell_type": "code",
   "execution_count": 7,
   "id": "71640ea2",
   "metadata": {},
   "outputs": [
    {
     "data": {
      "text/plain": [
       "'2022-12-29'"
      ]
     },
     "execution_count": 7,
     "metadata": {},
     "output_type": "execute_result"
    }
   ],
   "source": [
    "aviation_data['Event.Date'].max()"
   ]
  },
  {
   "cell_type": "markdown",
   "id": "911bb559",
   "metadata": {},
   "source": [
    "***<span style=\"font-size: 18px;\">5. Missing values </span>***\n"
   ]
  },
  {
   "cell_type": "markdown",
   "id": "39fae90f",
   "metadata": {},
   "source": [
    "- checking number of rows and columns before handling them"
   ]
  },
  {
   "cell_type": "code",
   "execution_count": 8,
   "id": "922c07ec",
   "metadata": {},
   "outputs": [
    {
     "data": {
      "text/plain": [
       "(88889, 31)"
      ]
     },
     "execution_count": 8,
     "metadata": {},
     "output_type": "execute_result"
    }
   ],
   "source": [
    "aviation_data.shape"
   ]
  },
  {
   "cell_type": "markdown",
   "id": "c8e7b9f5",
   "metadata": {},
   "source": [
    "- Using .isnull().sum() to check numer of missing values"
   ]
  },
  {
   "cell_type": "code",
   "execution_count": 9,
   "id": "94022df2",
   "metadata": {},
   "outputs": [
    {
     "data": {
      "text/plain": [
       "Event.Id                      0\n",
       "Investigation.Type            0\n",
       "Accident.Number               0\n",
       "Event.Date                    0\n",
       "Location                     52\n",
       "Country                     226\n",
       "Latitude                  54507\n",
       "Longitude                 54516\n",
       "Airport.Code              38757\n",
       "Airport.Name              36185\n",
       "Injury.Severity            1000\n",
       "Aircraft.damage            3194\n",
       "Aircraft.Category         56602\n",
       "Registration.Number        1382\n",
       "Make                         63\n",
       "Model                        92\n",
       "Amateur.Built               102\n",
       "Number.of.Engines          6084\n",
       "Engine.Type                7096\n",
       "FAR.Description           56866\n",
       "Schedule                  76307\n",
       "Purpose.of.flight          6192\n",
       "Air.carrier               72241\n",
       "Total.Fatal.Injuries      11401\n",
       "Total.Serious.Injuries    12510\n",
       "Total.Minor.Injuries      11933\n",
       "Total.Uninjured            5912\n",
       "Weather.Condition          4492\n",
       "Broad.phase.of.flight     27165\n",
       "Report.Status              6384\n",
       "Publication.Date          13771\n",
       "dtype: int64"
      ]
     },
     "execution_count": 9,
     "metadata": {},
     "output_type": "execute_result"
    }
   ],
   "source": [
    "missing_values = aviation_data.isnull().sum()\n",
    "missing_values"
   ]
  },
  {
   "cell_type": "markdown",
   "id": "c2c87b43",
   "metadata": {},
   "source": [
    "- Checking missing values by columns using a horizontal bar chart"
   ]
  },
  {
   "cell_type": "code",
   "execution_count": 10,
   "id": "ca086aab",
   "metadata": {},
   "outputs": [
    {
     "data": {
      "image/png": "[encoded data removed]",
      "text/plain": [
       "<Figure size 640x480 with 1 Axes>"
      ]
     },
     "metadata": {},
     "output_type": "display_data"
    }
   ],
   "source": [
    "if missing_values.sum() > 0:\n",
    "    missing_values[missing_values > 0].plot(kind='barh', color='skyblue')\n",
    "    plt.title('Missing Values')\n",
    "    plt.show()\n",
    "else:\n",
    "    print(\"No missing values!\")"
   ]
  },
  {
   "cell_type": "markdown",
   "id": "62764d12",
   "metadata": {},
   "source": [
    "- Handling the missing values\n",
    "- Data previously has 88889 rows 31 columns "
   ]
  },
  {
   "cell_type": "code",
   "execution_count": 11,
   "id": "1fc9b6c3",
   "metadata": {},
   "outputs": [
    {
     "name": "stdout",
     "output_type": "stream",
     "text": [
      "Missing values handled successfully!\n"
     ]
    }
   ],
   "source": [
    "if aviation_data.isnull().values.any():\n",
    "    # Drop columns with more than 50% missing values\n",
    "    aviation_data = aviation_data.dropna(axis=1, thresh=len(aviation_data) * 0.5)\n",
    "\n",
    "    # Fills numeric columns with median\n",
    "    for col in aviation_data.select_dtypes('number'):\n",
    "        aviation_data[col].fillna(aviation_data[col].median(), inplace=True)\n",
    "\n",
    "    # Fills text columns with 'Unknown' instead\n",
    "    for col in aviation_data.select_dtypes('object'):\n",
    "        aviation_data[col].fillna('Unknown', inplace=True)\n",
    "\n",
    "    # Drop rows missing 'Event.Date'\n",
    "    aviation_data = aviation_data.dropna(subset=['Event.Date'])\n",
    "\n",
    "    print(\"Missing values handled successfully!\")\n",
    "else:\n",
    "    print(\"No missing values found!\")\n"
   ]
  },
  {
   "cell_type": "markdown",
   "id": "67c68622",
   "metadata": {},
   "source": [
    "- Checking no of rows and columns after they've been handled\n"
   ]
  },
  {
   "cell_type": "code",
   "execution_count": 12,
   "id": "bfc90ea5",
   "metadata": {},
   "outputs": [
    {
     "data": {
      "text/html": [
       "<div>\n",
       "<style scoped>\n",
       "    .dataframe tbody tr th:only-of-type {\n",
       "        vertical-align: middle;\n",
       "    }\n",
       "\n",
       "    .dataframe tbody tr th {\n",
       "        vertical-align: top;\n",
       "    }\n",
       "\n",
       "    .dataframe thead th {\n",
       "        text-align: right;\n",
       "    }\n",
       "</style>\n",
       "<table border=\"1\" class=\"dataframe\">\n",
       "  <thead>\n",
       "    <tr style=\"text-align: right;\">\n",
       "      <th></th>\n",
       "      <th>Event.Id</th>\n",
       "      <th>Investigation.Type</th>\n",
       "      <th>Accident.Number</th>\n",
       "      <th>Event.Date</th>\n",
       "      <th>Location</th>\n",
       "      <th>Country</th>\n",
       "      <th>Airport.Code</th>\n",
       "      <th>Airport.Name</th>\n",
       "      <th>Injury.Severity</th>\n",
       "      <th>Aircraft.damage</th>\n",
       "      <th>...</th>\n",
       "      <th>Engine.Type</th>\n",
       "      <th>Purpose.of.flight</th>\n",
       "      <th>Total.Fatal.Injuries</th>\n",
       "      <th>Total.Serious.Injuries</th>\n",
       "      <th>Total.Minor.Injuries</th>\n",
       "      <th>Total.Uninjured</th>\n",
       "      <th>Weather.Condition</th>\n",
       "      <th>Broad.phase.of.flight</th>\n",
       "      <th>Report.Status</th>\n",
       "      <th>Publication.Date</th>\n",
       "    </tr>\n",
       "  </thead>\n",
       "  <tbody>\n",
       "    <tr>\n",
       "      <th>0</th>\n",
       "      <td>20001218X45444</td>\n",
       "      <td>Accident</td>\n",
       "      <td>SEA87LA080</td>\n",
       "      <td>1948-10-24</td>\n",
       "      <td>MOOSE CREEK, ID</td>\n",
       "      <td>United States</td>\n",
       "      <td>Unknown</td>\n",
       "      <td>Unknown</td>\n",
       "      <td>Fatal(2)</td>\n",
       "      <td>Destroyed</td>\n",
       "      <td>...</td>\n",
       "      <td>Reciprocating</td>\n",
       "      <td>Personal</td>\n",
       "      <td>2.0</td>\n",
       "      <td>0.0</td>\n",
       "      <td>0.0</td>\n",
       "      <td>0.0</td>\n",
       "      <td>UNK</td>\n",
       "      <td>Cruise</td>\n",
       "      <td>Probable Cause</td>\n",
       "      <td>Unknown</td>\n",
       "    </tr>\n",
       "    <tr>\n",
       "      <th>1</th>\n",
       "      <td>20001218X45447</td>\n",
       "      <td>Accident</td>\n",
       "      <td>LAX94LA336</td>\n",
       "      <td>1962-07-19</td>\n",
       "      <td>BRIDGEPORT, CA</td>\n",
       "      <td>United States</td>\n",
       "      <td>Unknown</td>\n",
       "      <td>Unknown</td>\n",
       "      <td>Fatal(4)</td>\n",
       "      <td>Destroyed</td>\n",
       "      <td>...</td>\n",
       "      <td>Reciprocating</td>\n",
       "      <td>Personal</td>\n",
       "      <td>4.0</td>\n",
       "      <td>0.0</td>\n",
       "      <td>0.0</td>\n",
       "      <td>0.0</td>\n",
       "      <td>UNK</td>\n",
       "      <td>Unknown</td>\n",
       "      <td>Probable Cause</td>\n",
       "      <td>19-09-1996</td>\n",
       "    </tr>\n",
       "    <tr>\n",
       "      <th>2</th>\n",
       "      <td>20061025X01555</td>\n",
       "      <td>Accident</td>\n",
       "      <td>NYC07LA005</td>\n",
       "      <td>1974-08-30</td>\n",
       "      <td>Saltville, VA</td>\n",
       "      <td>United States</td>\n",
       "      <td>Unknown</td>\n",
       "      <td>Unknown</td>\n",
       "      <td>Fatal(3)</td>\n",
       "      <td>Destroyed</td>\n",
       "      <td>...</td>\n",
       "      <td>Reciprocating</td>\n",
       "      <td>Personal</td>\n",
       "      <td>3.0</td>\n",
       "      <td>0.0</td>\n",
       "      <td>0.0</td>\n",
       "      <td>1.0</td>\n",
       "      <td>IMC</td>\n",
       "      <td>Cruise</td>\n",
       "      <td>Probable Cause</td>\n",
       "      <td>26-02-2007</td>\n",
       "    </tr>\n",
       "    <tr>\n",
       "      <th>3</th>\n",
       "      <td>20001218X45448</td>\n",
       "      <td>Accident</td>\n",
       "      <td>LAX96LA321</td>\n",
       "      <td>1977-06-19</td>\n",
       "      <td>EUREKA, CA</td>\n",
       "      <td>United States</td>\n",
       "      <td>Unknown</td>\n",
       "      <td>Unknown</td>\n",
       "      <td>Fatal(2)</td>\n",
       "      <td>Destroyed</td>\n",
       "      <td>...</td>\n",
       "      <td>Reciprocating</td>\n",
       "      <td>Personal</td>\n",
       "      <td>2.0</td>\n",
       "      <td>0.0</td>\n",
       "      <td>0.0</td>\n",
       "      <td>0.0</td>\n",
       "      <td>IMC</td>\n",
       "      <td>Cruise</td>\n",
       "      <td>Probable Cause</td>\n",
       "      <td>12-09-2000</td>\n",
       "    </tr>\n",
       "    <tr>\n",
       "      <th>4</th>\n",
       "      <td>20041105X01764</td>\n",
       "      <td>Accident</td>\n",
       "      <td>CHI79FA064</td>\n",
       "      <td>1979-08-02</td>\n",
       "      <td>Canton, OH</td>\n",
       "      <td>United States</td>\n",
       "      <td>Unknown</td>\n",
       "      <td>Unknown</td>\n",
       "      <td>Fatal(1)</td>\n",
       "      <td>Destroyed</td>\n",
       "      <td>...</td>\n",
       "      <td>Unknown</td>\n",
       "      <td>Personal</td>\n",
       "      <td>1.0</td>\n",
       "      <td>2.0</td>\n",
       "      <td>0.0</td>\n",
       "      <td>0.0</td>\n",
       "      <td>VMC</td>\n",
       "      <td>Approach</td>\n",
       "      <td>Probable Cause</td>\n",
       "      <td>16-04-1980</td>\n",
       "    </tr>\n",
       "  </tbody>\n",
       "</table>\n",
       "<p>5 rows × 25 columns</p>\n",
       "</div>"
      ],
      "text/plain": [
       "         Event.Id Investigation.Type Accident.Number  Event.Date  \\\n",
       "0  20001218X45444           Accident      SEA87LA080  1948-10-24   \n",
       "1  20001218X45447           Accident      LAX94LA336  1962-07-19   \n",
       "2  20061025X01555           Accident      NYC07LA005  1974-08-30   \n",
       "3  20001218X45448           Accident      LAX96LA321  1977-06-19   \n",
       "4  20041105X01764           Accident      CHI79FA064  1979-08-02   \n",
       "\n",
       "          Location        Country Airport.Code Airport.Name Injury.Severity  \\\n",
       "0  MOOSE CREEK, ID  United States      Unknown      Unknown        Fatal(2)   \n",
       "1   BRIDGEPORT, CA  United States      Unknown      Unknown        Fatal(4)   \n",
       "2    Saltville, VA  United States      Unknown      Unknown        Fatal(3)   \n",
       "3       EUREKA, CA  United States      Unknown      Unknown        Fatal(2)   \n",
       "4       Canton, OH  United States      Unknown      Unknown        Fatal(1)   \n",
       "\n",
       "  Aircraft.damage  ...    Engine.Type Purpose.of.flight Total.Fatal.Injuries  \\\n",
       "0       Destroyed  ...  Reciprocating          Personal                  2.0   \n",
       "1       Destroyed  ...  Reciprocating          Personal                  4.0   \n",
       "2       Destroyed  ...  Reciprocating          Personal                  3.0   \n",
       "3       Destroyed  ...  Reciprocating          Personal                  2.0   \n",
       "4       Destroyed  ...        Unknown          Personal                  1.0   \n",
       "\n",
       "  Total.Serious.Injuries  Total.Minor.Injuries Total.Uninjured  \\\n",
       "0                    0.0                   0.0             0.0   \n",
       "1                    0.0                   0.0             0.0   \n",
       "2                    0.0                   0.0             1.0   \n",
       "3                    0.0                   0.0             0.0   \n",
       "4                    2.0                   0.0             0.0   \n",
       "\n",
       "  Weather.Condition  Broad.phase.of.flight   Report.Status  Publication.Date  \n",
       "0               UNK                 Cruise  Probable Cause           Unknown  \n",
       "1               UNK                Unknown  Probable Cause        19-09-1996  \n",
       "2               IMC                 Cruise  Probable Cause        26-02-2007  \n",
       "3               IMC                 Cruise  Probable Cause        12-09-2000  \n",
       "4               VMC               Approach  Probable Cause        16-04-1980  \n",
       "\n",
       "[5 rows x 25 columns]"
      ]
     },
     "execution_count": 12,
     "metadata": {},
     "output_type": "execute_result"
    }
   ],
   "source": [
    "aviation_data.head()"
   ]
  },
  {
   "cell_type": "code",
   "execution_count": 13,
   "id": "770d4eda",
   "metadata": {},
   "outputs": [
    {
     "data": {
      "text/plain": [
       "(88889, 25)"
      ]
     },
     "execution_count": 13,
     "metadata": {},
     "output_type": "execute_result"
    }
   ],
   "source": [
    "aviation_data.shape"
   ]
  },
  {
   "cell_type": "markdown",
   "id": "57ea03cc",
   "metadata": {},
   "source": [
    "- Checking the column names"
   ]
  },
  {
   "cell_type": "code",
   "execution_count": 14,
   "id": "c37c1fd3",
   "metadata": {},
   "outputs": [
    {
     "data": {
      "text/plain": [
       "Index(['Event.Id', 'Investigation.Type', 'Accident.Number', 'Event.Date',\n",
       "       'Location', 'Country', 'Airport.Code', 'Airport.Name',\n",
       "       'Injury.Severity', 'Aircraft.damage', 'Registration.Number', 'Make',\n",
       "       'Model', 'Amateur.Built', 'Number.of.Engines', 'Engine.Type',\n",
       "       'Purpose.of.flight', 'Total.Fatal.Injuries', 'Total.Serious.Injuries',\n",
       "       'Total.Minor.Injuries', 'Total.Uninjured', 'Weather.Condition',\n",
       "       'Broad.phase.of.flight', 'Report.Status', 'Publication.Date'],\n",
       "      dtype='object')"
      ]
     },
     "execution_count": 14,
     "metadata": {},
     "output_type": "execute_result"
    }
   ],
   "source": [
    "aviation_data.columns"
   ]
  },
  {
   "cell_type": "markdown",
   "id": "c5273875",
   "metadata": {},
   "source": [
    "***<span style=\"font-size: 18px;\">6. Duplicates </span>***\n"
   ]
  },
  {
   "cell_type": "markdown",
   "id": "f41bbbef",
   "metadata": {},
   "source": [
    "- Checking for duplicates"
   ]
  },
  {
   "cell_type": "code",
   "execution_count": 15,
   "id": "4b7c33ff",
   "metadata": {},
   "outputs": [
    {
     "data": {
      "text/plain": [
       "0"
      ]
     },
     "execution_count": 15,
     "metadata": {},
     "output_type": "execute_result"
    }
   ],
   "source": [
    "aviation_data.duplicated().sum()"
   ]
  },
  {
   "cell_type": "markdown",
   "id": "eea5e925",
   "metadata": {},
   "source": [
    "- Handling duplicates"
   ]
  },
  {
   "cell_type": "code",
   "execution_count": 16,
   "id": "fb359155",
   "metadata": {},
   "outputs": [
    {
     "data": {
      "text/html": [
       "<div>\n",
       "<style scoped>\n",
       "    .dataframe tbody tr th:only-of-type {\n",
       "        vertical-align: middle;\n",
       "    }\n",
       "\n",
       "    .dataframe tbody tr th {\n",
       "        vertical-align: top;\n",
       "    }\n",
       "\n",
       "    .dataframe thead th {\n",
       "        text-align: right;\n",
       "    }\n",
       "</style>\n",
       "<table border=\"1\" class=\"dataframe\">\n",
       "  <thead>\n",
       "    <tr style=\"text-align: right;\">\n",
       "      <th></th>\n",
       "      <th>Event.Id</th>\n",
       "      <th>Investigation.Type</th>\n",
       "      <th>Accident.Number</th>\n",
       "      <th>Event.Date</th>\n",
       "      <th>Location</th>\n",
       "      <th>Country</th>\n",
       "      <th>Airport.Code</th>\n",
       "      <th>Airport.Name</th>\n",
       "      <th>Injury.Severity</th>\n",
       "      <th>Aircraft.damage</th>\n",
       "      <th>...</th>\n",
       "      <th>Engine.Type</th>\n",
       "      <th>Purpose.of.flight</th>\n",
       "      <th>Total.Fatal.Injuries</th>\n",
       "      <th>Total.Serious.Injuries</th>\n",
       "      <th>Total.Minor.Injuries</th>\n",
       "      <th>Total.Uninjured</th>\n",
       "      <th>Weather.Condition</th>\n",
       "      <th>Broad.phase.of.flight</th>\n",
       "      <th>Report.Status</th>\n",
       "      <th>Publication.Date</th>\n",
       "    </tr>\n",
       "  </thead>\n",
       "  <tbody>\n",
       "    <tr>\n",
       "      <th>0</th>\n",
       "      <td>20001218X45444</td>\n",
       "      <td>Accident</td>\n",
       "      <td>SEA87LA080</td>\n",
       "      <td>1948-10-24</td>\n",
       "      <td>MOOSE CREEK, ID</td>\n",
       "      <td>United States</td>\n",
       "      <td>Unknown</td>\n",
       "      <td>Unknown</td>\n",
       "      <td>Fatal(2)</td>\n",
       "      <td>Destroyed</td>\n",
       "      <td>...</td>\n",
       "      <td>Reciprocating</td>\n",
       "      <td>Personal</td>\n",
       "      <td>2.0</td>\n",
       "      <td>0.0</td>\n",
       "      <td>0.0</td>\n",
       "      <td>0.0</td>\n",
       "      <td>UNK</td>\n",
       "      <td>Cruise</td>\n",
       "      <td>Probable Cause</td>\n",
       "      <td>Unknown</td>\n",
       "    </tr>\n",
       "    <tr>\n",
       "      <th>1</th>\n",
       "      <td>20001218X45447</td>\n",
       "      <td>Accident</td>\n",
       "      <td>LAX94LA336</td>\n",
       "      <td>1962-07-19</td>\n",
       "      <td>BRIDGEPORT, CA</td>\n",
       "      <td>United States</td>\n",
       "      <td>Unknown</td>\n",
       "      <td>Unknown</td>\n",
       "      <td>Fatal(4)</td>\n",
       "      <td>Destroyed</td>\n",
       "      <td>...</td>\n",
       "      <td>Reciprocating</td>\n",
       "      <td>Personal</td>\n",
       "      <td>4.0</td>\n",
       "      <td>0.0</td>\n",
       "      <td>0.0</td>\n",
       "      <td>0.0</td>\n",
       "      <td>UNK</td>\n",
       "      <td>Unknown</td>\n",
       "      <td>Probable Cause</td>\n",
       "      <td>19-09-1996</td>\n",
       "    </tr>\n",
       "    <tr>\n",
       "      <th>2</th>\n",
       "      <td>20061025X01555</td>\n",
       "      <td>Accident</td>\n",
       "      <td>NYC07LA005</td>\n",
       "      <td>1974-08-30</td>\n",
       "      <td>Saltville, VA</td>\n",
       "      <td>United States</td>\n",
       "      <td>Unknown</td>\n",
       "      <td>Unknown</td>\n",
       "      <td>Fatal(3)</td>\n",
       "      <td>Destroyed</td>\n",
       "      <td>...</td>\n",
       "      <td>Reciprocating</td>\n",
       "      <td>Personal</td>\n",
       "      <td>3.0</td>\n",
       "      <td>0.0</td>\n",
       "      <td>0.0</td>\n",
       "      <td>1.0</td>\n",
       "      <td>IMC</td>\n",
       "      <td>Cruise</td>\n",
       "      <td>Probable Cause</td>\n",
       "      <td>26-02-2007</td>\n",
       "    </tr>\n",
       "    <tr>\n",
       "      <th>3</th>\n",
       "      <td>20001218X45448</td>\n",
       "      <td>Accident</td>\n",
       "      <td>LAX96LA321</td>\n",
       "      <td>1977-06-19</td>\n",
       "      <td>EUREKA, CA</td>\n",
       "      <td>United States</td>\n",
       "      <td>Unknown</td>\n",
       "      <td>Unknown</td>\n",
       "      <td>Fatal(2)</td>\n",
       "      <td>Destroyed</td>\n",
       "      <td>...</td>\n",
       "      <td>Reciprocating</td>\n",
       "      <td>Personal</td>\n",
       "      <td>2.0</td>\n",
       "      <td>0.0</td>\n",
       "      <td>0.0</td>\n",
       "      <td>0.0</td>\n",
       "      <td>IMC</td>\n",
       "      <td>Cruise</td>\n",
       "      <td>Probable Cause</td>\n",
       "      <td>12-09-2000</td>\n",
       "    </tr>\n",
       "    <tr>\n",
       "      <th>4</th>\n",
       "      <td>20041105X01764</td>\n",
       "      <td>Accident</td>\n",
       "      <td>CHI79FA064</td>\n",
       "      <td>1979-08-02</td>\n",
       "      <td>Canton, OH</td>\n",
       "      <td>United States</td>\n",
       "      <td>Unknown</td>\n",
       "      <td>Unknown</td>\n",
       "      <td>Fatal(1)</td>\n",
       "      <td>Destroyed</td>\n",
       "      <td>...</td>\n",
       "      <td>Unknown</td>\n",
       "      <td>Personal</td>\n",
       "      <td>1.0</td>\n",
       "      <td>2.0</td>\n",
       "      <td>0.0</td>\n",
       "      <td>0.0</td>\n",
       "      <td>VMC</td>\n",
       "      <td>Approach</td>\n",
       "      <td>Probable Cause</td>\n",
       "      <td>16-04-1980</td>\n",
       "    </tr>\n",
       "    <tr>\n",
       "      <th>...</th>\n",
       "      <td>...</td>\n",
       "      <td>...</td>\n",
       "      <td>...</td>\n",
       "      <td>...</td>\n",
       "      <td>...</td>\n",
       "      <td>...</td>\n",
       "      <td>...</td>\n",
       "      <td>...</td>\n",
       "      <td>...</td>\n",
       "      <td>...</td>\n",
       "      <td>...</td>\n",
       "      <td>...</td>\n",
       "      <td>...</td>\n",
       "      <td>...</td>\n",
       "      <td>...</td>\n",
       "      <td>...</td>\n",
       "      <td>...</td>\n",
       "      <td>...</td>\n",
       "      <td>...</td>\n",
       "      <td>...</td>\n",
       "      <td>...</td>\n",
       "    </tr>\n",
       "    <tr>\n",
       "      <th>88884</th>\n",
       "      <td>20221227106491</td>\n",
       "      <td>Accident</td>\n",
       "      <td>ERA23LA093</td>\n",
       "      <td>2022-12-26</td>\n",
       "      <td>Annapolis, MD</td>\n",
       "      <td>United States</td>\n",
       "      <td>Unknown</td>\n",
       "      <td>Unknown</td>\n",
       "      <td>Minor</td>\n",
       "      <td>Unknown</td>\n",
       "      <td>...</td>\n",
       "      <td>Unknown</td>\n",
       "      <td>Personal</td>\n",
       "      <td>0.0</td>\n",
       "      <td>1.0</td>\n",
       "      <td>0.0</td>\n",
       "      <td>0.0</td>\n",
       "      <td>Unknown</td>\n",
       "      <td>Unknown</td>\n",
       "      <td>Unknown</td>\n",
       "      <td>29-12-2022</td>\n",
       "    </tr>\n",
       "    <tr>\n",
       "      <th>88885</th>\n",
       "      <td>20221227106494</td>\n",
       "      <td>Accident</td>\n",
       "      <td>ERA23LA095</td>\n",
       "      <td>2022-12-26</td>\n",
       "      <td>Hampton, NH</td>\n",
       "      <td>United States</td>\n",
       "      <td>Unknown</td>\n",
       "      <td>Unknown</td>\n",
       "      <td>Unknown</td>\n",
       "      <td>Unknown</td>\n",
       "      <td>...</td>\n",
       "      <td>Unknown</td>\n",
       "      <td>Unknown</td>\n",
       "      <td>0.0</td>\n",
       "      <td>0.0</td>\n",
       "      <td>0.0</td>\n",
       "      <td>0.0</td>\n",
       "      <td>Unknown</td>\n",
       "      <td>Unknown</td>\n",
       "      <td>Unknown</td>\n",
       "      <td>Unknown</td>\n",
       "    </tr>\n",
       "    <tr>\n",
       "      <th>88886</th>\n",
       "      <td>20221227106497</td>\n",
       "      <td>Accident</td>\n",
       "      <td>WPR23LA075</td>\n",
       "      <td>2022-12-26</td>\n",
       "      <td>Payson, AZ</td>\n",
       "      <td>United States</td>\n",
       "      <td>PAN</td>\n",
       "      <td>PAYSON</td>\n",
       "      <td>Non-Fatal</td>\n",
       "      <td>Substantial</td>\n",
       "      <td>...</td>\n",
       "      <td>Unknown</td>\n",
       "      <td>Personal</td>\n",
       "      <td>0.0</td>\n",
       "      <td>0.0</td>\n",
       "      <td>0.0</td>\n",
       "      <td>1.0</td>\n",
       "      <td>VMC</td>\n",
       "      <td>Unknown</td>\n",
       "      <td>Unknown</td>\n",
       "      <td>27-12-2022</td>\n",
       "    </tr>\n",
       "    <tr>\n",
       "      <th>88887</th>\n",
       "      <td>20221227106498</td>\n",
       "      <td>Accident</td>\n",
       "      <td>WPR23LA076</td>\n",
       "      <td>2022-12-26</td>\n",
       "      <td>Morgan, UT</td>\n",
       "      <td>United States</td>\n",
       "      <td>Unknown</td>\n",
       "      <td>Unknown</td>\n",
       "      <td>Unknown</td>\n",
       "      <td>Unknown</td>\n",
       "      <td>...</td>\n",
       "      <td>Unknown</td>\n",
       "      <td>Personal</td>\n",
       "      <td>0.0</td>\n",
       "      <td>0.0</td>\n",
       "      <td>0.0</td>\n",
       "      <td>0.0</td>\n",
       "      <td>Unknown</td>\n",
       "      <td>Unknown</td>\n",
       "      <td>Unknown</td>\n",
       "      <td>Unknown</td>\n",
       "    </tr>\n",
       "    <tr>\n",
       "      <th>88888</th>\n",
       "      <td>20221230106513</td>\n",
       "      <td>Accident</td>\n",
       "      <td>ERA23LA097</td>\n",
       "      <td>2022-12-29</td>\n",
       "      <td>Athens, GA</td>\n",
       "      <td>United States</td>\n",
       "      <td>Unknown</td>\n",
       "      <td>Unknown</td>\n",
       "      <td>Minor</td>\n",
       "      <td>Unknown</td>\n",
       "      <td>...</td>\n",
       "      <td>Unknown</td>\n",
       "      <td>Personal</td>\n",
       "      <td>0.0</td>\n",
       "      <td>1.0</td>\n",
       "      <td>0.0</td>\n",
       "      <td>1.0</td>\n",
       "      <td>Unknown</td>\n",
       "      <td>Unknown</td>\n",
       "      <td>Unknown</td>\n",
       "      <td>30-12-2022</td>\n",
       "    </tr>\n",
       "  </tbody>\n",
       "</table>\n",
       "<p>87951 rows × 25 columns</p>\n",
       "</div>"
      ],
      "text/plain": [
       "             Event.Id Investigation.Type Accident.Number  Event.Date  \\\n",
       "0      20001218X45444           Accident      SEA87LA080  1948-10-24   \n",
       "1      20001218X45447           Accident      LAX94LA336  1962-07-19   \n",
       "2      20061025X01555           Accident      NYC07LA005  1974-08-30   \n",
       "3      20001218X45448           Accident      LAX96LA321  1977-06-19   \n",
       "4      20041105X01764           Accident      CHI79FA064  1979-08-02   \n",
       "...               ...                ...             ...         ...   \n",
       "88884  20221227106491           Accident      ERA23LA093  2022-12-26   \n",
       "88885  20221227106494           Accident      ERA23LA095  2022-12-26   \n",
       "88886  20221227106497           Accident      WPR23LA075  2022-12-26   \n",
       "88887  20221227106498           Accident      WPR23LA076  2022-12-26   \n",
       "88888  20221230106513           Accident      ERA23LA097  2022-12-29   \n",
       "\n",
       "              Location        Country Airport.Code Airport.Name  \\\n",
       "0      MOOSE CREEK, ID  United States      Unknown      Unknown   \n",
       "1       BRIDGEPORT, CA  United States      Unknown      Unknown   \n",
       "2        Saltville, VA  United States      Unknown      Unknown   \n",
       "3           EUREKA, CA  United States      Unknown      Unknown   \n",
       "4           Canton, OH  United States      Unknown      Unknown   \n",
       "...                ...            ...          ...          ...   \n",
       "88884    Annapolis, MD  United States      Unknown      Unknown   \n",
       "88885      Hampton, NH  United States      Unknown      Unknown   \n",
       "88886       Payson, AZ  United States          PAN       PAYSON   \n",
       "88887       Morgan, UT  United States      Unknown      Unknown   \n",
       "88888       Athens, GA  United States      Unknown      Unknown   \n",
       "\n",
       "      Injury.Severity Aircraft.damage  ...    Engine.Type Purpose.of.flight  \\\n",
       "0            Fatal(2)       Destroyed  ...  Reciprocating          Personal   \n",
       "1            Fatal(4)       Destroyed  ...  Reciprocating          Personal   \n",
       "2            Fatal(3)       Destroyed  ...  Reciprocating          Personal   \n",
       "3            Fatal(2)       Destroyed  ...  Reciprocating          Personal   \n",
       "4            Fatal(1)       Destroyed  ...        Unknown          Personal   \n",
       "...               ...             ...  ...            ...               ...   \n",
       "88884           Minor         Unknown  ...        Unknown          Personal   \n",
       "88885         Unknown         Unknown  ...        Unknown           Unknown   \n",
       "88886       Non-Fatal     Substantial  ...        Unknown          Personal   \n",
       "88887         Unknown         Unknown  ...        Unknown          Personal   \n",
       "88888           Minor         Unknown  ...        Unknown          Personal   \n",
       "\n",
       "      Total.Fatal.Injuries Total.Serious.Injuries  Total.Minor.Injuries  \\\n",
       "0                      2.0                    0.0                   0.0   \n",
       "1                      4.0                    0.0                   0.0   \n",
       "2                      3.0                    0.0                   0.0   \n",
       "3                      2.0                    0.0                   0.0   \n",
       "4                      1.0                    2.0                   0.0   \n",
       "...                    ...                    ...                   ...   \n",
       "88884                  0.0                    1.0                   0.0   \n",
       "88885                  0.0                    0.0                   0.0   \n",
       "88886                  0.0                    0.0                   0.0   \n",
       "88887                  0.0                    0.0                   0.0   \n",
       "88888                  0.0                    1.0                   0.0   \n",
       "\n",
       "      Total.Uninjured Weather.Condition  Broad.phase.of.flight  \\\n",
       "0                 0.0               UNK                 Cruise   \n",
       "1                 0.0               UNK                Unknown   \n",
       "2                 1.0               IMC                 Cruise   \n",
       "3                 0.0               IMC                 Cruise   \n",
       "4                 0.0               VMC               Approach   \n",
       "...               ...               ...                    ...   \n",
       "88884             0.0           Unknown                Unknown   \n",
       "88885             0.0           Unknown                Unknown   \n",
       "88886             1.0               VMC                Unknown   \n",
       "88887             0.0           Unknown                Unknown   \n",
       "88888             1.0           Unknown                Unknown   \n",
       "\n",
       "        Report.Status  Publication.Date  \n",
       "0      Probable Cause           Unknown  \n",
       "1      Probable Cause        19-09-1996  \n",
       "2      Probable Cause        26-02-2007  \n",
       "3      Probable Cause        12-09-2000  \n",
       "4      Probable Cause        16-04-1980  \n",
       "...               ...               ...  \n",
       "88884         Unknown        29-12-2022  \n",
       "88885         Unknown           Unknown  \n",
       "88886         Unknown        27-12-2022  \n",
       "88887         Unknown           Unknown  \n",
       "88888         Unknown        30-12-2022  \n",
       "\n",
       "[87951 rows x 25 columns]"
      ]
     },
     "execution_count": 16,
     "metadata": {},
     "output_type": "execute_result"
    }
   ],
   "source": [
    "aviation_data = aviation_data.drop_duplicates(subset=['Event.Id'])\n",
    "aviation_data"
   ]
  },
  {
   "cell_type": "markdown",
   "id": "6795548e",
   "metadata": {},
   "source": [
    "***<span style=\"font-size: 18px;\">7. Outliers </span>***"
   ]
  },
  {
   "cell_type": "markdown",
   "id": "532688ae",
   "metadata": {},
   "source": [
    "- Statistical summaries. "
   ]
  },
  {
   "cell_type": "code",
   "execution_count": 17,
   "id": "ed44398f",
   "metadata": {},
   "outputs": [
    {
     "data": {
      "text/html": [
       "<div>\n",
       "<style scoped>\n",
       "    .dataframe tbody tr th:only-of-type {\n",
       "        vertical-align: middle;\n",
       "    }\n",
       "\n",
       "    .dataframe tbody tr th {\n",
       "        vertical-align: top;\n",
       "    }\n",
       "\n",
       "    .dataframe thead th {\n",
       "        text-align: right;\n",
       "    }\n",
       "</style>\n",
       "<table border=\"1\" class=\"dataframe\">\n",
       "  <thead>\n",
       "    <tr style=\"text-align: right;\">\n",
       "      <th></th>\n",
       "      <th>Number.of.Engines</th>\n",
       "      <th>Total.Fatal.Injuries</th>\n",
       "      <th>Total.Serious.Injuries</th>\n",
       "      <th>Total.Minor.Injuries</th>\n",
       "      <th>Total.Uninjured</th>\n",
       "    </tr>\n",
       "  </thead>\n",
       "  <tbody>\n",
       "    <tr>\n",
       "      <th>count</th>\n",
       "      <td>87951.000000</td>\n",
       "      <td>87951.000000</td>\n",
       "      <td>87951.000000</td>\n",
       "      <td>87951.000000</td>\n",
       "      <td>87951.000000</td>\n",
       "    </tr>\n",
       "    <tr>\n",
       "      <th>mean</th>\n",
       "      <td>1.134711</td>\n",
       "      <td>0.552421</td>\n",
       "      <td>0.241248</td>\n",
       "      <td>0.308410</td>\n",
       "      <td>4.814215</td>\n",
       "    </tr>\n",
       "    <tr>\n",
       "      <th>std</th>\n",
       "      <td>0.429232</td>\n",
       "      <td>4.957053</td>\n",
       "      <td>1.440332</td>\n",
       "      <td>2.086752</td>\n",
       "      <td>25.752474</td>\n",
       "    </tr>\n",
       "    <tr>\n",
       "      <th>min</th>\n",
       "      <td>0.000000</td>\n",
       "      <td>0.000000</td>\n",
       "      <td>0.000000</td>\n",
       "      <td>0.000000</td>\n",
       "      <td>0.000000</td>\n",
       "    </tr>\n",
       "    <tr>\n",
       "      <th>25%</th>\n",
       "      <td>1.000000</td>\n",
       "      <td>0.000000</td>\n",
       "      <td>0.000000</td>\n",
       "      <td>0.000000</td>\n",
       "      <td>0.000000</td>\n",
       "    </tr>\n",
       "    <tr>\n",
       "      <th>50%</th>\n",
       "      <td>1.000000</td>\n",
       "      <td>0.000000</td>\n",
       "      <td>0.000000</td>\n",
       "      <td>0.000000</td>\n",
       "      <td>1.000000</td>\n",
       "    </tr>\n",
       "    <tr>\n",
       "      <th>75%</th>\n",
       "      <td>1.000000</td>\n",
       "      <td>0.000000</td>\n",
       "      <td>0.000000</td>\n",
       "      <td>0.000000</td>\n",
       "      <td>2.000000</td>\n",
       "    </tr>\n",
       "    <tr>\n",
       "      <th>max</th>\n",
       "      <td>8.000000</td>\n",
       "      <td>349.000000</td>\n",
       "      <td>161.000000</td>\n",
       "      <td>380.000000</td>\n",
       "      <td>699.000000</td>\n",
       "    </tr>\n",
       "  </tbody>\n",
       "</table>\n",
       "</div>"
      ],
      "text/plain": [
       "       Number.of.Engines  Total.Fatal.Injuries  Total.Serious.Injuries  \\\n",
       "count       87951.000000          87951.000000            87951.000000   \n",
       "mean            1.134711              0.552421                0.241248   \n",
       "std             0.429232              4.957053                1.440332   \n",
       "min             0.000000              0.000000                0.000000   \n",
       "25%             1.000000              0.000000                0.000000   \n",
       "50%             1.000000              0.000000                0.000000   \n",
       "75%             1.000000              0.000000                0.000000   \n",
       "max             8.000000            349.000000              161.000000   \n",
       "\n",
       "       Total.Minor.Injuries  Total.Uninjured  \n",
       "count          87951.000000     87951.000000  \n",
       "mean               0.308410         4.814215  \n",
       "std                2.086752        25.752474  \n",
       "min                0.000000         0.000000  \n",
       "25%                0.000000         0.000000  \n",
       "50%                0.000000         1.000000  \n",
       "75%                0.000000         2.000000  \n",
       "max              380.000000       699.000000  "
      ]
     },
     "execution_count": 17,
     "metadata": {},
     "output_type": "execute_result"
    }
   ],
   "source": [
    "aviation_data.describe()"
   ]
  },
  {
   "cell_type": "markdown",
   "id": "f147861b",
   "metadata": {},
   "source": [
    "- Checking for outliers"
   ]
  },
  {
   "cell_type": "code",
   "execution_count": 18,
   "id": "28242102",
   "metadata": {},
   "outputs": [],
   "source": [
    "def find_outliers(column):\n",
    "    Q1 = aviation_data[column].quantile(0.25)\n",
    "    Q3 = aviation_data[column].quantile(0.75)\n",
    "    IQR = Q3 - Q1\n",
    "    lower = Q1 - 1.5 * IQR\n",
    "    upper = Q3 + 1.5 * IQR\n",
    "    outliers = aviation_data[(aviation_data[column] < lower) | (aviation_data[column] > upper)]\n",
    "    print(f\"{column}: {len(outliers)} outliers\")\n",
    "    return outliers"
   ]
  },
  {
   "cell_type": "code",
   "execution_count": 19,
   "id": "4f632b8e",
   "metadata": {},
   "outputs": [
    {
     "name": "stdout",
     "output_type": "stream",
     "text": [
      "Number.of.Engines: 12968 outliers\n",
      "Total.Fatal.Injuries: 17527 outliers\n",
      "Total.Serious.Injuries: 12991 outliers\n",
      "Total.Minor.Injuries: 15356 outliers\n",
      "Total.Uninjured: 3969 outliers\n"
     ]
    }
   ],
   "source": [
    "# keeping Outliers in the dataset for analysis\n",
    "numeric_cols = aviation_data.select_dtypes(include=[np.number]).columns\n",
    "for col in numeric_cols:\n",
    "    find_outliers(col)"
   ]
  },
  {
   "cell_type": "markdown",
   "id": "0c8d9bf4",
   "metadata": {},
   "source": [
    "- Visualizing outliars by plotting a histogram"
   ]
  },
  {
   "cell_type": "code",
   "execution_count": 20,
   "id": "913bd86b",
   "metadata": {},
   "outputs": [
    {
     "data": {
      "image/png": "[encoded data removed]",
      "text/plain": [
       "<Figure size 1500x1000 with 1 Axes>"
      ]
     },
     "metadata": {},
     "output_type": "display_data"
    }
   ],
   "source": [
    "aviation_data.boxplot(figsize=(15, 10), vert=True, color='green')\n",
    "plt.title('Aviation Data Box Plots')\n",
    "plt.tight_layout()\n",
    "plt.show()"
   ]
  },
  {
   "cell_type": "markdown",
   "id": "cf55a3ed",
   "metadata": {},
   "source": [
    "***<span style=\"font-size: 18px;\">8. Standardizing columns</span>***"
   ]
  },
  {
   "cell_type": "code",
   "execution_count": 21,
   "id": "25542edc",
   "metadata": {},
   "outputs": [
    {
     "data": {
      "text/plain": [
       "Index(['Event.Id', 'Investigation.Type', 'Accident.Number', 'Event.Date',\n",
       "       'Location', 'Country', 'Airport.Code', 'Airport.Name',\n",
       "       'Injury.Severity', 'Aircraft.damage', 'Registration.Number', 'Make',\n",
       "       'Model', 'Amateur.Built', 'Number.of.Engines', 'Engine.Type',\n",
       "       'Purpose.of.flight', 'Total.Fatal.Injuries', 'Total.Serious.Injuries',\n",
       "       'Total.Minor.Injuries', 'Total.Uninjured', 'Weather.Condition',\n",
       "       'Broad.phase.of.flight', 'Report.Status', 'Publication.Date'],\n",
       "      dtype='object')"
      ]
     },
     "execution_count": 21,
     "metadata": {},
     "output_type": "execute_result"
    }
   ],
   "source": [
    "aviation_data.columns"
   ]
  },
  {
   "cell_type": "markdown",
   "id": "1b8217df",
   "metadata": {},
   "source": [
    "- Standardizing the Country column\n"
   ]
  },
  {
   "cell_type": "code",
   "execution_count": 22,
   "id": "22af109a",
   "metadata": {},
   "outputs": [
    {
     "data": {
      "text/plain": [
       "0        USA\n",
       "1        USA\n",
       "2        USA\n",
       "3        USA\n",
       "4        USA\n",
       "        ... \n",
       "88884    USA\n",
       "88885    USA\n",
       "88886    USA\n",
       "88887    USA\n",
       "88888    USA\n",
       "Name: Country, Length: 87951, dtype: object"
      ]
     },
     "execution_count": 22,
     "metadata": {},
     "output_type": "execute_result"
    }
   ],
   "source": [
    "aviation_data['Country'] = aviation_data['Country'].replace({'US': 'USA', 'United States': 'USA'})\n",
    "aviation_data['Country']"
   ]
  },
  {
   "cell_type": "markdown",
   "id": "21467f11",
   "metadata": {},
   "source": [
    "- Standardizing Amateur Built column\n"
   ]
  },
  {
   "cell_type": "code",
   "execution_count": 23,
   "id": "82174fc8",
   "metadata": {},
   "outputs": [
    {
     "data": {
      "text/plain": [
       "0        No\n",
       "1        No\n",
       "2        No\n",
       "3        No\n",
       "4        No\n",
       "         ..\n",
       "88884    No\n",
       "88885    No\n",
       "88886    No\n",
       "88887    No\n",
       "88888    No\n",
       "Name: Amateur.Built, Length: 87951, dtype: object"
      ]
     },
     "execution_count": 23,
     "metadata": {},
     "output_type": "execute_result"
    }
   ],
   "source": [
    "aviation_data['Amateur.Built'] = aviation_data['Amateur.Built'].replace({'Y': 'Yes', 'N': 'No', 'UNK': 'Unknown'})\n",
    "aviation_data['Amateur.Built']"
   ]
  },
  {
   "cell_type": "code",
   "execution_count": 24,
   "id": "29f69ef7",
   "metadata": {},
   "outputs": [
    {
     "data": {
      "text/plain": [
       "0        UNK\n",
       "1        UNK\n",
       "2        IMC\n",
       "3        IMC\n",
       "4        VMC\n",
       "        ... \n",
       "88884    UNK\n",
       "88885    UNK\n",
       "88886    VMC\n",
       "88887    UNK\n",
       "88888    UNK\n",
       "Name: Weather.Condition, Length: 87951, dtype: object"
      ]
     },
     "execution_count": 24,
     "metadata": {},
     "output_type": "execute_result"
    }
   ],
   "source": [
    "aviation_data['Weather.Condition'] = aviation_data['Weather.Condition'].replace({'Unk': 'UNK', 'Unknown': 'UNK'})\n",
    "aviation_data['Weather.Condition']"
   ]
  },
  {
   "cell_type": "markdown",
   "id": "a6363d82",
   "metadata": {},
   "source": [
    "- __<span style=\"font-size: 20px;\">Data Analysis</span>__"
   ]
  },
  {
   "cell_type": "markdown",
   "id": "04759e66",
   "metadata": {},
   "source": [
    "***<span style=\"font-size: 18px;\">9. Finding the Analysis and Plotting the Charts</span>***"
   ]
  },
  {
   "cell_type": "markdown",
   "id": "4ac7c00b",
   "metadata": {},
   "source": [
    "- Calculating accident counts per aircraft"
   ]
  },
  {
   "cell_type": "code",
   "execution_count": 25,
   "id": "8afcf291",
   "metadata": {},
   "outputs": [
    {
     "name": "stdout",
     "output_type": "stream",
     "text": [
      "Aircraft with Most/Fewest Accidents:\n",
      "         Make      Model  Total_Accidents    Aircraft_Type\n",
      "4872   CESSNA        172              499       CESSNA 172\n",
      "5708   Cessna       150M              530      Cessna 150M\n",
      "14889   Piper      PA-18              538      Piper PA-18\n",
      "5778   Cessna       172P              582      Cessna 172P\n",
      "5773   Cessna       172M              651      Cessna 172M\n",
      "5684   Cessna        150              707       Cessna 150\n",
      "14995   Piper  PA-28-140              805  Piper PA-28-140\n",
      "5775   Cessna       172N              977      Cessna 172N\n",
      "5731   Cessna        172             1241       Cessna 172\n",
      "5709   Cessna        152             2114       Cessna 152\n",
      "                    Make            Model  Total_Accidents  \\\n",
      "19996             Zenair          CH 2000                5   \n",
      "3053               Beech             B-23                5   \n",
      "12823              Maule              MX7                5   \n",
      "12955  Mcdonnell Douglas            369HS                5   \n",
      "12968  Mcdonnell Douglas            DC-10                5   \n",
      "12992  Mcdonnell Douglas             DC-9                5   \n",
      "3007               Beech             A-23                5   \n",
      "3003               Beech              99A                5   \n",
      "12995  Mcdonnell Douglas          DC-9-30                5   \n",
      "13005  Mcdonnell Douglas  DC-9-82 (MD-82)                5   \n",
      "\n",
      "                           Aircraft_Type  \n",
      "19996                     Zenair CH 2000  \n",
      "3053                          Beech B-23  \n",
      "12823                          Maule MX7  \n",
      "12955            Mcdonnell Douglas 369HS  \n",
      "12968            Mcdonnell Douglas DC-10  \n",
      "12992             Mcdonnell Douglas DC-9  \n",
      "3007                          Beech A-23  \n",
      "3003                           Beech 99A  \n",
      "12995          Mcdonnell Douglas DC-9-30  \n",
      "13005  Mcdonnell Douglas DC-9-82 (MD-82)  \n"
     ]
    }
   ],
   "source": [
    "# Calculate accident counts per aircraft make and model\n",
    "aircraft_accidents = aviation_data.groupby(['Make', 'Model']).size().reset_index(name='Total_Accidents')\n",
    "\n",
    "# Create combined aircraft identifier\n",
    "aircraft_accidents['Aircraft_Type'] = aircraft_accidents['Make'] + ' ' + aircraft_accidents['Model']\n",
    "\n",
    "# Filter to aircraft with at least 5 accidents for meaningful analysis\n",
    "significant_aircraft = aircraft_accidents[aircraft_accidents['Total_Accidents'] >= 5]\n",
    "\n",
    "# Sort by accident count\n",
    "significant_aircraft = significant_aircraft.sort_values('Total_Accidents', ascending=True)\n",
    "\n",
    "print(\"Aircraft with Most/Fewest Accidents:\")\n",
    "print(significant_aircraft.tail(10))  # Highest risk\n",
    "print(significant_aircraft.head(10))  # Lowest risk"
   ]
  },
  {
   "cell_type": "markdown",
   "id": "488ef5c3",
   "metadata": {},
   "source": [
    "-  Plotting Top 20 Aircraft by Total Accidents"
   ]
  },
  {
   "cell_type": "code",
   "execution_count": 26,
   "id": "390db91a",
   "metadata": {},
   "outputs": [
    {
     "data": {
      "image/png": "[encoded data removed]",
      "text/plain": [
       "<Figure size 1200x800 with 1 Axes>"
      ]
     },
     "metadata": {},
     "output_type": "display_data"
    }
   ],
   "source": [
    "plt.figure(figsize=(12, 8))\n",
    "top_20 = significant_aircraft.tail(20)\n",
    "plt.barh(range(len(top_20)), top_20['Total_Accidents'], color='silver')\n",
    "plt.yticks(range(len(top_20)), top_20['Aircraft_Type'], fontsize=8)\n",
    "plt.xlabel('Total Accidents')\n",
    "plt.title('Top 20 Aircraft by Total Accidents (Higher = More Risk)')\n",
    "plt.tight_layout()\n",
    "plt.show()"
   ]
  },
  {
   "cell_type": "markdown",
   "id": "10148679",
   "metadata": {},
   "source": [
    "- Analyzing injury severity by aircraft type"
   ]
  },
  {
   "cell_type": "code",
   "execution_count": 27,
   "id": "2dedd152",
   "metadata": {},
   "outputs": [
    {
     "name": "stdout",
     "output_type": "stream",
     "text": [
      "Aircraft with Highest/Lowest Fatality Rates:\n",
      "         Make       Model  Total.Fatal.Injuries  Total.Serious.Injuries  \\\n",
      "2434   BOEING   777 - 206                 534.0                     0.0   \n",
      "325    AIRBUS  A320 - 216                 162.0                     0.0   \n",
      "4214   Boeing   B-757-23A                  70.0                     0.0   \n",
      "3884   Boeing    -737-222                 123.0                     0.0   \n",
      "1640      Atr  ATR-72-212                  68.0                     0.0   \n",
      "520   ANTONOV       AN148                  71.0                     0.0   \n",
      "561       ATR      72-500                  58.0                     0.0   \n",
      "2482   BOEING       MD-83                 153.0                     0.0   \n",
      "7734  Douglas       MD-83                  88.0                     0.0   \n",
      "2300   BOEING   737 - 500                  50.0                     0.0   \n",
      "\n",
      "      Total.Minor.Injuries  Total.Uninjured  Total_People  Fatality_Rate  \n",
      "2434                   0.0              0.0         534.0          100.0  \n",
      "325                    0.0              0.0         162.0          100.0  \n",
      "4214                   0.0              0.0          70.0          100.0  \n",
      "3884                   0.0              0.0         123.0          100.0  \n",
      "1640                   0.0              0.0          68.0          100.0  \n",
      "520                    0.0              0.0          71.0          100.0  \n",
      "561                    0.0              0.0          58.0          100.0  \n",
      "2482                   0.0              0.0         153.0          100.0  \n",
      "7734                   0.0              0.0          88.0          100.0  \n",
      "2300                   0.0              0.0          50.0          100.0  \n"
     ]
    }
   ],
   "source": [
    "# Analyze injury severity by aircraft type\n",
    "severity_by_aircraft = aviation_data.groupby(['Make', 'Model']).agg({\n",
    "    'Total.Fatal.Injuries': 'sum',\n",
    "    'Total.Serious.Injuries': 'sum', \n",
    "    'Total.Minor.Injuries': 'sum',\n",
    "    'Total.Uninjured': 'sum'\n",
    "}).reset_index()\n",
    "\n",
    "# Calculate fatality rate\n",
    "severity_by_aircraft['Total_People'] = (severity_by_aircraft['Total.Fatal.Injuries'] + \n",
    "                                       severity_by_aircraft['Total.Serious.Injuries'] + \n",
    "                                       severity_by_aircraft['Total.Minor.Injuries'] + \n",
    "                                       severity_by_aircraft['Total.Uninjured'])\n",
    "\n",
    "severity_by_aircraft['Fatality_Rate'] = (severity_by_aircraft['Total.Fatal.Injuries'] / \n",
    "                                        severity_by_aircraft['Total_People'] * 100)\n",
    "\n",
    "# Filter aircraft with sufficient data\n",
    "severity_filtered = severity_by_aircraft[severity_by_aircraft['Total_People'] >= 50]\n",
    "severity_filtered = severity_filtered.sort_values('Fatality_Rate', ascending=False)\n",
    "\n",
    "print(\"Aircraft with Highest/Lowest Fatality Rates:\")\n",
    "print(severity_filtered.head(10))"
   ]
  },
  {
   "cell_type": "markdown",
   "id": "e99b30c2",
   "metadata": {},
   "source": [
    "- Plotting Aircraft Damage Types"
   ]
  },
  {
   "cell_type": "code",
   "execution_count": 28,
   "id": "1dc285d5",
   "metadata": {},
   "outputs": [
    {
     "data": {
      "image/png": "[encoded data removed]",
      "text/plain": [
       "<Figure size 800x500 with 1 Axes>"
      ]
     },
     "metadata": {},
     "output_type": "display_data"
    }
   ],
   "source": [
    "damage_counts = aviation_data['Aircraft.damage'].value_counts()\n",
    "\n",
    "plt.figure(figsize=(8, 5))\n",
    "plt.bar(damage_counts.index, damage_counts.values, color='green')\n",
    "plt.title('Aircraft Damage Types')\n",
    "plt.xlabel('Number of Incidents')\n",
    "plt.ylabel('Damage Level')\n",
    "plt.tight_layout()\n",
    "plt.show()"
   ]
  },
  {
   "cell_type": "markdown",
   "id": "566bd254",
   "metadata": {},
   "source": [
    "- Analyzing accidents by flight phase"
   ]
  },
  {
   "cell_type": "code",
   "execution_count": 29,
   "id": "f4730070",
   "metadata": {},
   "outputs": [
    {
     "name": "stdout",
     "output_type": "stream",
     "text": [
      "Accidents by Flight Phase:\n",
      "   Broad.phase.of.flight  Accident_Count\n",
      "11               Unknown           27661\n",
      "5                Landing           15320\n",
      "9                Takeoff           12404\n",
      "2                 Cruise           10141\n",
      "6            Maneuvering            8052\n",
      "0               Approach            6389\n",
      "1                  Climb            1995\n",
      "3                Descent            1870\n",
      "10                  Taxi            1786\n",
      "4              Go-around            1345\n",
      "8               Standing             872\n",
      "7                  Other             116\n",
      "\n",
      "Flight Phase Risk by Top Aircraft Makes:\n",
      "Broad.phase.of.flight  Approach  Climb  Cruise  Descent  Go-around  Landing  \\\n",
      "Make                                                                          \n",
      "BOEING                        0      0       0        0          0        0   \n",
      "Beech                       598    174     723      158        140      909   \n",
      "Bell                        136     33     414       42          3      218   \n",
      "Boeing                      102     79     178       85         12      198   \n",
      "CESSNA                        0      0       0        0          0        0   \n",
      "Cessna                     2060    547    3396      635        607     6423   \n",
      "Grumman                      42     22     103       15          9      188   \n",
      "Mooney                      129     76     252       35         30      222   \n",
      "PIPER                         0      0       0        0          0        0   \n",
      "Piper                      1240    384    2040      311        295     2760   \n",
      "\n",
      "Broad.phase.of.flight  Maneuvering  Other  Standing  Takeoff  Taxi  Unknown  \n",
      "Make                                                                         \n",
      "BOEING                           0      0         0        0     0     1140  \n",
      "Beech                          201      6        51      840   104      386  \n",
      "Bell                           623      5        60      288    22      274  \n",
      "Boeing                          45      1        69      173   135      435  \n",
      "CESSNA                           0      0         0        0     0     4914  \n",
      "Cessna                        1790     29       238     3835   677     1688  \n",
      "Grumman                        370      0         4      258    19       50  \n",
      "Mooney                          54      0         6      180    13       83  \n",
      "PIPER                            0      0         0        0     0     2841  \n",
      "Piper                         1057     17       101     2390   317      991  \n"
     ]
    }
   ],
   "source": [
    "# Analyze accidents by flight phase\n",
    "phase_analysis = aviation_data.groupby('Broad.phase.of.flight').size().reset_index(name='Accident_Count')\n",
    "phase_analysis = phase_analysis.sort_values('Accident_Count', ascending=False)\n",
    "\n",
    "print(\"Accidents by Flight Phase:\")\n",
    "print(phase_analysis)\n",
    "\n",
    "# Analyze phase risk by aircraft type (top aircraft only)\n",
    "top_aircraft_makes = aviation_data['Make'].value_counts().head(10).index\n",
    "phase_by_aircraft = aviation_data[aviation_data['Make'].isin(top_aircraft_makes)].groupby(['Make', 'Broad.phase.of.flight']).size().unstack(fill_value=0)\n",
    "\n",
    "print(\"\\nFlight Phase Risk by Top Aircraft Makes:\")\n",
    "print(phase_by_aircraft)"
   ]
  },
  {
   "cell_type": "markdown",
   "id": "650c377f",
   "metadata": {},
   "source": [
    "- Heatmap of phase risk by aircraft make"
   ]
  },
  {
   "cell_type": "code",
   "execution_count": 30,
   "id": "8aebe111",
   "metadata": {},
   "outputs": [
    {
     "data": {
      "image/png": "[encoded data removed]",
      "text/plain": [
       "<Figure size 1200x800 with 2 Axes>"
      ]
     },
     "metadata": {},
     "output_type": "display_data"
    }
   ],
   "source": [
    "# Heatmap of phase risk by aircraft make\n",
    "plt.figure(figsize=(12, 8))\n",
    "sns.heatmap(phase_by_aircraft, annot=True, fmt='d', cmap='Blues')\n",
    "plt.title('Accident Count by Flight Phase and Aircraft Make')\n",
    "plt.xlabel('Flight Phase')\n",
    "plt.ylabel('Aircraft Make')\n",
    "plt.xticks(rotation=45)\n",
    "plt.tight_layout()\n",
    "plt.show()"
   ]
  },
  {
   "cell_type": "markdown",
   "id": "a7485797",
   "metadata": {},
   "source": [
    "- Plotting the distribution of weather conditions"
   ]
  },
  {
   "cell_type": "code",
   "execution_count": 31,
   "id": "5049303d",
   "metadata": {},
   "outputs": [
    {
     "data": {
      "image/png": "[encoded data removed]",
      "text/plain": [
       "<Figure size 800x500 with 1 Axes>"
      ]
     },
     "metadata": {},
     "output_type": "display_data"
    }
   ],
   "source": [
    "weather_counts = aviation_data['Weather.Condition'].value_counts()\n",
    "\n",
    "plt.figure(figsize=(8, 5))\n",
    "plt.bar(weather_counts.index, weather_counts.values, color='silver')\n",
    "plt.title('Distribution of Weather Conditions')\n",
    "plt.xlabel('Weather Condition')\n",
    "plt.ylabel('Count')\n",
    "plt.xticks(rotation=45)\n",
    "plt.tight_layout()\n",
    "plt.show()"
   ]
  },
  {
   "cell_type": "markdown",
   "id": "8827fa5c",
   "metadata": {},
   "source": [
    "- Plotting the engine type distribution"
   ]
  },
  {
   "cell_type": "code",
   "execution_count": 32,
   "id": "33b0f889",
   "metadata": {},
   "outputs": [
    {
     "data": {
      "image/png": "[encoded data removed]",
      "text/plain": [
       "<Figure size 800x500 with 1 Axes>"
      ]
     },
     "metadata": {},
     "output_type": "display_data"
    }
   ],
   "source": [
    "engine_counts = aviation_data['Engine.Type'].value_counts()\n",
    "\n",
    "plt.figure(figsize=(8, 5))\n",
    "plt.barh(engine_counts.index, engine_counts.values, color='green')\n",
    "plt.title('Engine Type Distribution')\n",
    "plt.xlabel('Number of Aircraft')\n",
    "plt.ylabel('Engine Type')\n",
    "plt.tight_layout()\n",
    "plt.show()"
   ]
  },
  {
   "cell_type": "markdown",
   "id": "68df9040",
   "metadata": {},
   "source": [
    "***<span style=\"font-size: 18px;\">10. Checking and saving the cleaned data</span>***\n"
   ]
  },
  {
   "cell_type": "code",
   "execution_count": 33,
   "id": "1649314a",
   "metadata": {},
   "outputs": [
    {
     "data": {
      "text/plain": [
       "(87951, 25)"
      ]
     },
     "execution_count": 33,
     "metadata": {},
     "output_type": "execute_result"
    }
   ],
   "source": [
    "aviation_data.shape\n"
   ]
  },
  {
   "cell_type": "markdown",
   "id": "c0f8e1cf",
   "metadata": {},
   "source": [
    "- Saving the data\n"
   ]
  },
  {
   "cell_type": "code",
   "execution_count": 34,
   "id": "6f073334",
   "metadata": {},
   "outputs": [
    {
     "name": "stdout",
     "output_type": "stream",
     "text": [
      "Cleaned data saved!\n"
     ]
    }
   ],
   "source": [
    "aviation_data.to_csv('cleaned_aviation_data.csv', index=False)\n",
    "print(\"Cleaned data saved!\")"
   ]
  }
 ],
 "metadata": {
  "kernelspec": {
   "display_name": "base",
   "language": "python",
   "name": "python3"
  },
  "language_info": {
   "codemirror_mode": {
    "name": "ipython",
    "version": 3
   },
   "file_extension": ".py",
   "mimetype": "text/x-python",
   "name": "python",
   "nbconvert_exporter": "python",
   "pygments_lexer": "ipython3",
   "version": "3.11.7"
  }
 },
 "nbformat": 4,
 "nbformat_minor": 5
}
